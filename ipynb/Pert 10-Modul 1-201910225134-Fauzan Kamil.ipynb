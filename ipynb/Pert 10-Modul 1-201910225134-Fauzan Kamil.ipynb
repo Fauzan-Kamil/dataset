{
  "nbformat": 4,
  "nbformat_minor": 0,
  "metadata": {
    "colab": {
      "name": "Pert 10-Modul 1-201910225134-Fauzan Kamil.ipynb",
      "private_outputs": true,
      "provenance": [],
      "collapsed_sections": []
    },
    "kernelspec": {
      "name": "python3",
      "display_name": "Python 3"
    },
    "language_info": {
      "name": "python"
    }
  },
  "cells": [
    {
      "cell_type": "markdown",
      "source": [
        "# Pertemuan 10 Modul 1\n",
        "Nama <t> : Fauzan Kamil\n",
        "<br>NPM  : 201910225134\n",
        "## Data Mining + Prak"
      ],
      "metadata": {
        "id": "MlmsTRWX8Ygo"
      }
    },
    {
      "cell_type": "code",
      "source": [
        "#Impor pustaka\n",
        "import pandas as pd\n",
        "import numpy as np\n",
        "import matplotlib.pyplot as plt\n",
        "from sklearn import datasets\n",
        "from sklearn.neighbors import KNeighborsClassifier\n",
        "from sklearn.metrics import accuracy_score\n",
        "from sklearn.metrics import classification_report\n",
        "from google.colab import files\n",
        "import io"
      ],
      "metadata": {
        "id": "fayDe7TwjAVd"
      },
      "execution_count": null,
      "outputs": []
    },
    {
      "cell_type": "markdown",
      "source": [
        "File Populasi_colab.csv"
      ],
      "metadata": {
        "id": "NoARR7hKinmR"
      }
    },
    {
      "cell_type": "code",
      "source": [
        "'''\n",
        "upload_files = files.upload()\n",
        "for filename in upload_files.keys():\n",
        "  x=upload_files[filename].decode('utf-8')\n",
        "dataset = pd.read_csv(io.StringIO(x), header=None)\n",
        "'''\n",
        "dataset = pd.read_csv(\"populasi_colab.csv\")\n",
        "print(dataset.head())\n",
        "#persiapan data latih"
      ],
      "metadata": {
        "id": "aU3E2Sb1jGoV"
      },
      "execution_count": null,
      "outputs": []
    },
    {
      "cell_type": "code",
      "source": [
        "X=dataset.iloc[1:, :1]\n",
        "Y=dataset.iloc[1:,1:2].values\n",
        "#Membagi/split Data uji dengan validasi/test"
      ],
      "metadata": {
        "id": "_VmN_VI7jaPD"
      },
      "execution_count": null,
      "outputs": []
    },
    {
      "cell_type": "code",
      "source": [
        "from sklearn.model_selection import train_test_split\n",
        "X_train, X_test, y_train, y_test = train_test_split(X,Y,test_size =0.3, random_state=0, shuffle=False)\n",
        "print('pengujian untuk tahun:')\n",
        "print(X_test)\n",
        "#Fitting pada Data Training"
      ],
      "metadata": {
        "id": "ViXI72XOjdKu"
      },
      "execution_count": null,
      "outputs": []
    },
    {
      "cell_type": "code",
      "source": [
        "from sklearn.linear_model import LinearRegression\n",
        "regressor = LinearRegression()\n",
        "regressor.fit(X_train, y_train)\n",
        "#Memprediksi hasil dengan Data Tes"
      ],
      "metadata": {
        "id": "16XFL71hjjM7"
      },
      "execution_count": null,
      "outputs": []
    },
    {
      "cell_type": "code",
      "execution_count": null,
      "metadata": {
        "id": "PsoidNHZhRmz"
      },
      "outputs": [],
      "source": [
        "#persiapan data yang akan diprediksi\n",
        "#print('Pengujian Untuk Tahun')\n",
        "#print(X_test)\n",
        "temp=[2025,2026,2027]\n",
        "X_uji=np.array(temp).reshape(-1,1)\n",
        "y_pred=regressor.predict(X_uji)\n",
        "print('Hasil Prediksi, Kelompok 1 = ')\n",
        "print(temp)\n",
        "print(y_pred)"
      ]
    },
    {
      "cell_type": "code",
      "source": [
        "temp=[2028,2029,2030]\n",
        "X_uji=np.array(temp).reshape(-1,1)\n",
        "y_pred=regressor.predict(X_uji)\n",
        "print('Hasil Prediksi, Kelompok 2 = ')\n",
        "print(temp)\n",
        "print(y_pred)"
      ],
      "metadata": {
        "id": "O0Skd8V9u-On"
      },
      "execution_count": null,
      "outputs": []
    },
    {
      "cell_type": "code",
      "source": [
        "temp=[2031,2032,2033]\n",
        "X_uji=np.array(temp).reshape(-1,1)\n",
        "y_pred=regressor.predict(X_uji)\n",
        "print('Hasil Prediksi, Kelompok 3 = ')\n",
        "print(temp)\n",
        "print(y_pred) "
      ],
      "metadata": {
        "id": "fGmWYMHQvEjW"
      },
      "execution_count": null,
      "outputs": []
    },
    {
      "cell_type": "code",
      "source": [
        "temp=[2034,2035,2036]\n",
        "X_uji=np.array(temp).reshape(-1,1)\n",
        "y_pred=regressor.predict(X_uji)\n",
        "print('Hasil Prediksi, Kelompok 4 = ')\n",
        "print(temp)\n",
        "print(y_pred) "
      ],
      "metadata": {
        "id": "KKWP9cSqvXZ6"
      },
      "execution_count": null,
      "outputs": []
    },
    {
      "cell_type": "code",
      "source": [
        ""
      ],
      "metadata": {
        "id": "4PQnBQRF969v"
      },
      "execution_count": null,
      "outputs": []
    }
  ]
}