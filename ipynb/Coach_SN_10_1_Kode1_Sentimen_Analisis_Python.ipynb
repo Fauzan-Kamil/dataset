{
  "nbformat": 4,
  "nbformat_minor": 0,
  "metadata": {
    "kernelspec": {
      "display_name": "Python 3",
      "language": "python",
      "name": "python3"
    },
    "language_info": {
      "codemirror_mode": {
        "name": "ipython",
        "version": 3
      },
      "file_extension": ".py",
      "mimetype": "text/x-python",
      "name": "python",
      "nbconvert_exporter": "python",
      "pygments_lexer": "ipython3",
      "version": "3.8.8"
    },
    "colab": {
      "name": "Coach_SN_10_1_Sentimen_Analisis_Python.ipynb",
      "provenance": [],
      "collapsed_sections": []
    }
  },
  "cells": [
    {
      "cell_type": "markdown",
      "metadata": {
        "id": "3mebfOxIHlgi"
      },
      "source": [
        "# PENTING DAN MOHON PERHATIAN\n",
        "\n",
        "Pada Preprocessing kode ini menggunakan 2 STOPWORDS, yaitu Stopwords bahasa Indonesia dan Stopwords bahasa Inggris. \n",
        "\n",
        "Langkah-langkah mengerjakan:\n",
        "1. Run Preprocessing kode menggunakan stopwords Bahasa Indonesia terlebih dahulu, run sampai selesai\n",
        "\n",
        "2. Run Preprocessing kode menggunakan stopwords Bahasa Inggris, dan run sampai selesai"
      ]
    },
    {
      "cell_type": "markdown",
      "metadata": {
        "id": "u_z6LklZO7S6"
      },
      "source": [
        "# Analisa Sentimen menggunakan Algoritma Logistic Regression"
      ]
    },
    {
      "cell_type": "code",
      "metadata": {
        "id": "wQi9VQmhO7TB"
      },
      "source": [
        "import numpy as np #linier algebra\n",
        "import pandas as pd # data processing, CSV file I/O (e.g pd.read_csv)\n",
        "import seaborn as sns"
      ],
      "execution_count": null,
      "outputs": []
    },
    {
      "cell_type": "markdown",
      "metadata": {
        "id": "_f9LllB4O7TE"
      },
      "source": [
        "# Proses 1 (Input Data Training)"
      ]
    },
    {
      "cell_type": "code",
      "metadata": {
        "scrolled": false,
        "id": "8otNg1t-O7TF",
        "colab": {
          "base_uri": "https://localhost:8080/",
          "height": 205
        },
        "outputId": "275fe424-68d2-4069-cec8-78ae6bf190d5"
      },
      "source": [
        "#membaca data training = 1050 data\n",
        "# df = pd.read_csv(r'juli2train.csv')\n",
        "df = pd.read_csv('https://raw.githubusercontent.com/rasyidev/well-known-datasets/main/juli2train.csv')\n",
        "df.head()"
      ],
      "execution_count": null,
      "outputs": [
        {
          "output_type": "execute_result",
          "data": {
            "text/html": [
              "<div>\n",
              "<style scoped>\n",
              "    .dataframe tbody tr th:only-of-type {\n",
              "        vertical-align: middle;\n",
              "    }\n",
              "\n",
              "    .dataframe tbody tr th {\n",
              "        vertical-align: top;\n",
              "    }\n",
              "\n",
              "    .dataframe thead th {\n",
              "        text-align: right;\n",
              "    }\n",
              "</style>\n",
              "<table border=\"1\" class=\"dataframe\">\n",
              "  <thead>\n",
              "    <tr style=\"text-align: right;\">\n",
              "      <th></th>\n",
              "      <th>label</th>\n",
              "      <th>tweet</th>\n",
              "    </tr>\n",
              "  </thead>\n",
              "  <tbody>\n",
              "    <tr>\n",
              "      <th>0</th>\n",
              "      <td>1</td>\n",
              "      <td>rt @napqilla  no      ambisinya menguasai raky...</td>\n",
              "    </tr>\n",
              "    <tr>\n",
              "      <th>1</th>\n",
              "      <td>1</td>\n",
              "      <td>rt @pandji  nah gue pikir sentimen petahana ok...</td>\n",
              "    </tr>\n",
              "    <tr>\n",
              "      <th>2</th>\n",
              "      <td>1</td>\n",
              "      <td>rt @pandji  urutan pertama best moment #debat ...</td>\n",
              "    </tr>\n",
              "    <tr>\n",
              "      <th>3</th>\n",
              "      <td>1</td>\n",
              "      <td>rt @pandji  ini artikel yg menjelaskan ternyat...</td>\n",
              "    </tr>\n",
              "    <tr>\n",
              "      <th>4</th>\n",
              "      <td>0</td>\n",
              "      <td>rt @mrtampi  agus makin santai  nahok makin sa...</td>\n",
              "    </tr>\n",
              "  </tbody>\n",
              "</table>\n",
              "</div>"
            ],
            "text/plain": [
              "   label                                              tweet\n",
              "0      1  rt @napqilla  no      ambisinya menguasai raky...\n",
              "1      1  rt @pandji  nah gue pikir sentimen petahana ok...\n",
              "2      1  rt @pandji  urutan pertama best moment #debat ...\n",
              "3      1  rt @pandji  ini artikel yg menjelaskan ternyat...\n",
              "4      0  rt @mrtampi  agus makin santai  nahok makin sa..."
            ]
          },
          "metadata": {},
          "execution_count": 2
        }
      ]
    },
    {
      "cell_type": "code",
      "metadata": {
        "id": "mApamD3HO7TG",
        "colab": {
          "base_uri": "https://localhost:8080/"
        },
        "outputId": "816a03c2-6e54-4bc9-b562-28cb1628d1ce"
      },
      "source": [
        "#menampilkan data label\n",
        "y = df['label']\n",
        "y[0:5]\n"
      ],
      "execution_count": null,
      "outputs": [
        {
          "output_type": "execute_result",
          "data": {
            "text/plain": [
              "0    1\n",
              "1    1\n",
              "2    1\n",
              "3    1\n",
              "4    0\n",
              "Name: label, dtype: int64"
            ]
          },
          "metadata": {},
          "execution_count": 3
        }
      ]
    },
    {
      "cell_type": "code",
      "metadata": {
        "id": "5R9WXDdrO7TH",
        "colab": {
          "base_uri": "https://localhost:8080/",
          "height": 297
        },
        "outputId": "fae9cacd-e94c-4e24-f336-b4091188ea87"
      },
      "source": [
        "#menampilkan grafik nilai dari variabel \"label\"\n",
        "sns.countplot(x=\"label\", data=df)"
      ],
      "execution_count": null,
      "outputs": [
        {
          "output_type": "execute_result",
          "data": {
            "text/plain": [
              "<matplotlib.axes._subplots.AxesSubplot at 0x7f00d3e05b50>"
            ]
          },
          "metadata": {},
          "execution_count": 4
        },
        {
          "output_type": "display_data",
          "data": {
            "image/png": "[encoded data removed]",
            "text/plain": [
              "<Figure size 432x288 with 1 Axes>"
            ]
          },
          "metadata": {
            "needs_background": "light"
          }
        }
      ]
    },
    {
      "cell_type": "code",
      "metadata": {
        "id": "FjO-bYybO7TI",
        "colab": {
          "base_uri": "https://localhost:8080/"
        },
        "outputId": "4d3727a9-b69f-4c9c-bde1-2d35190d57f5"
      },
      "source": [
        "#menghitung jumlah data masing-masing label\n",
        "df[\"label\"].value_counts()"
      ],
      "execution_count": null,
      "outputs": [
        {
          "output_type": "execute_result",
          "data": {
            "text/plain": [
              "0    530\n",
              "1    520\n",
              "Name: label, dtype: int64"
            ]
          },
          "metadata": {},
          "execution_count": 5
        }
      ]
    },
    {
      "cell_type": "markdown",
      "metadata": {
        "id": "dbyY_-PRO7TK"
      },
      "source": [
        "# Proses 2 (preprocessing, case folding, stopword removal, steming )"
      ]
    },
    {
      "cell_type": "markdown",
      "metadata": {
        "id": "zEmkEvPoO7TL"
      },
      "source": [
        "# Preprocessing"
      ]
    },
    {
      "cell_type": "code",
      "metadata": {
        "id": "O2LCCQGOO7TN"
      },
      "source": [
        "import nltk\n",
        "from nltk.corpus import stopwords\n",
        "from nltk.stem import SnowballStemmer\n",
        "import requests\n",
        "import re"
      ],
      "execution_count": null,
      "outputs": []
    },
    {
      "cell_type": "markdown",
      "metadata": {
        "id": "ACYtWuxAy4nU"
      },
      "source": [
        "# 1. Preprocessing Menggunakan Stemming Sastrawi dan Stopwordlist Indonesia"
      ]
    },
    {
      "cell_type": "code",
      "metadata": {
        "id": "JVbxcvaiO7TO"
      },
      "source": [
        "#simpan kata-kata stopword\n",
        "\n",
        "# f=open('stopwordlist.txt')\n",
        "\n",
        "url = \"https://raw.githubusercontent.com/Wayan123/Sentiment-Analysis/main/stopwordlist.txt\"\n",
        "ina_stopword = requests.get(url).content\n",
        "\n",
        "tempStoplist = []\n",
        "for tempstp in ina_stopword.split():\n",
        "  tempStoplist.append(tempstp)"
      ],
      "execution_count": null,
      "outputs": []
    },
    {
      "cell_type": "code",
      "metadata": {
        "colab": {
          "base_uri": "https://localhost:8080/"
        },
        "id": "HvKz6r5qXHD8",
        "outputId": "f40d040f-a681-4d11-d50b-7b7906bae262"
      },
      "source": [
        "!pip install sastrawi"
      ],
      "execution_count": null,
      "outputs": [
        {
          "output_type": "stream",
          "name": "stdout",
          "text": [
            "Collecting sastrawi\n",
            "  Downloading Sastrawi-1.0.1-py2.py3-none-any.whl (209 kB)\n",
            "\u001b[?25l\r\u001b[K     |█▋                              | 10 kB 24.6 MB/s eta 0:00:01\r\u001b[K     |███▏                            | 20 kB 27.5 MB/s eta 0:00:01\r\u001b[K     |████▊                           | 30 kB 20.1 MB/s eta 0:00:01\r\u001b[K     |██████▎                         | 40 kB 16.7 MB/s eta 0:00:01\r\u001b[K     |███████▉                        | 51 kB 7.1 MB/s eta 0:00:01\r\u001b[K     |█████████▍                      | 61 kB 8.1 MB/s eta 0:00:01\r\u001b[K     |███████████                     | 71 kB 8.0 MB/s eta 0:00:01\r\u001b[K     |████████████▌                   | 81 kB 8.9 MB/s eta 0:00:01\r\u001b[K     |██████████████                  | 92 kB 9.2 MB/s eta 0:00:01\r\u001b[K     |███████████████▋                | 102 kB 7.0 MB/s eta 0:00:01\r\u001b[K     |█████████████████▏              | 112 kB 7.0 MB/s eta 0:00:01\r\u001b[K     |██████████████████▊             | 122 kB 7.0 MB/s eta 0:00:01\r\u001b[K     |████████████████████▎           | 133 kB 7.0 MB/s eta 0:00:01\r\u001b[K     |█████████████████████▉          | 143 kB 7.0 MB/s eta 0:00:01\r\u001b[K     |███████████████████████▍        | 153 kB 7.0 MB/s eta 0:00:01\r\u001b[K     |█████████████████████████       | 163 kB 7.0 MB/s eta 0:00:01\r\u001b[K     |██████████████████████████▋     | 174 kB 7.0 MB/s eta 0:00:01\r\u001b[K     |████████████████████████████▏   | 184 kB 7.0 MB/s eta 0:00:01\r\u001b[K     |█████████████████████████████▊  | 194 kB 7.0 MB/s eta 0:00:01\r\u001b[K     |███████████████████████████████▎| 204 kB 7.0 MB/s eta 0:00:01\r\u001b[K     |████████████████████████████████| 209 kB 7.0 MB/s \n",
            "\u001b[?25hInstalling collected packages: sastrawi\n",
            "Successfully installed sastrawi-1.0.1\n"
          ]
        }
      ]
    },
    {
      "cell_type": "code",
      "metadata": {
        "id": "kbybFUVOXMs0"
      },
      "source": [
        "from Sastrawi.Stemmer.StemmerFactory import StemmerFactory\n",
        "factory = StemmerFactory()\n",
        "stemmer = factory.create_stemmer()"
      ],
      "execution_count": null,
      "outputs": []
    },
    {
      "cell_type": "code",
      "metadata": {
        "id": "4_4jtHfYXPl7"
      },
      "source": [
        "TEXT_CLEANING_RE = \"@#=-_\\S+|https?:\\S+http?:\\S|{^A-Za-z}+\" #regex untuk remove punctuation\n",
        "\n",
        "def preprocessing(tweet):\n",
        "  tweet = re.sub(TEXT_CLEANING_RE,'',str(tweet).lower()).strip() #casefolding dan remove punctuation\n",
        "  tokens = []\n",
        "  for token in tweet.split():\n",
        "    if token not in tempStoplist: #jika token tidak di stopword maka simpan\n",
        "      token = stemmer.stem(token) #lakukan stemming\n",
        "      tokens.append(token) \n",
        "  return \" \".join(tokens)"
      ],
      "execution_count": null,
      "outputs": []
    },
    {
      "cell_type": "markdown",
      "metadata": {
        "id": "rqq4x_735IZt"
      },
      "source": [
        "# Mengimplementasikan preprocessing Menggunakan Stemming Sastrawi dan Stopwordlist Indonesia"
      ]
    },
    {
      "cell_type": "code",
      "metadata": {
        "id": "94pRUab64nIY",
        "colab": {
          "base_uri": "https://localhost:8080/"
        },
        "outputId": "ea0bc6ea-eb1a-4d3f-b0da-390c5e5ad08d"
      },
      "source": [
        "# Mengimplementasikan preprocessing Menggunakan Stemming Sastrawi dan Stopwordlist Indonesia\n",
        "# -+ 10 Menit\n",
        "%%time\n",
        "\n",
        "df['clean_twt'] = df.tweet.apply(lambda x: preprocessing(x))\n",
        "df['clean_twt'] = df.clean_twt.str.replace('rt', '')\n",
        "df.head()\n",
        "\n",
        "# HABIS INI LANGSUNG RUN KE PROSES 3 YAITU \"Modeling dengan Metode Logistic Regression\""
      ],
      "execution_count": null,
      "outputs": [
        {
          "output_type": "stream",
          "name": "stdout",
          "text": [
            "CPU times: user 5min 12s, sys: 632 ms, total: 5min 13s\n",
            "Wall time: 5min 13s\n"
          ]
        }
      ]
    },
    {
      "cell_type": "markdown",
      "metadata": {
        "id": "yBVsrCfI2eGi"
      },
      "source": [
        "Nahh, disini dalam proses preprocessing memakan waktu yang lama, yaitu sekitar 5 menit. \n",
        "\n",
        "HABIS INI LANGSUNG RUN KE PROSES 3 YAITU \"Modeling dengan Metode Logistic Regression\""
      ]
    },
    {
      "cell_type": "markdown",
      "metadata": {
        "id": "jG70D55k3cO6"
      },
      "source": [
        "# 2. Preprocessing Menggunakan Stemming English dan Stopwordlist English"
      ]
    },
    {
      "cell_type": "code",
      "metadata": {
        "id": "mbDYBRAJ32DS",
        "colab": {
          "base_uri": "https://localhost:8080/"
        },
        "outputId": "72d22b0c-904b-4c27-f47c-d824a08f20bf"
      },
      "source": [
        "nltk.download('stopwords')\n",
        "\n",
        "stop_words = stopwords.words(\"english\")\n",
        "stemmer = SnowballStemmer(\"english\")"
      ],
      "execution_count": null,
      "outputs": [
        {
          "output_type": "stream",
          "name": "stdout",
          "text": [
            "[nltk_data] Downloading package stopwords to /root/nltk_data...\n",
            "[nltk_data]   Package stopwords is already up-to-date!\n"
          ]
        }
      ]
    },
    {
      "cell_type": "code",
      "metadata": {
        "id": "tONl1k0937_t"
      },
      "source": [
        "#preprocessing, case folding, stopword removal, steming\n",
        "\n",
        "TEXT_CLEANING_RE = \"@#=-_\\S+|https?:\\S+http?:\\S|{^A-Za-z}+\"\n",
        "def preprocess(tweet, stem=False): \n",
        "    #Remove link,user and special characters\n",
        "    tweet = re.sub(TEXT_CLEANING_RE,'',str(tweet).lower()).strip()\n",
        "    tokens = []\n",
        "    for token in tweet.split():\n",
        "        if token not in stop_words:\n",
        "            if stem:\n",
        "                tokens.append(stemmer.stem(token))\n",
        "            else:\n",
        "                  tokens.append(token)\n",
        "    return \" \".join(tokens)"
      ],
      "execution_count": null,
      "outputs": []
    },
    {
      "cell_type": "markdown",
      "metadata": {
        "id": "BwmbHQ485NMU"
      },
      "source": [
        "Mengimplementasikan preprocessing dengan Menggunakan Stemming English dan Stopwordlist English"
      ]
    },
    {
      "cell_type": "code",
      "metadata": {
        "id": "7mANTSnpO7TP",
        "colab": {
          "base_uri": "https://localhost:8080/"
        },
        "outputId": "71c7cfc5-c191-4241-8952-df788502448e"
      },
      "source": [
        "# Mengimplementasikan preprocessing dengan Menggunakan Stemming English dan Stopwordlist English\n",
        "%%time\n",
        "\n",
        "df['clean_twt'] = df.tweet.apply(lambda x: preprocess(x))\n",
        "df['clean_twt'] = df.clean_twt.str.replace('rt', '')\n",
        "df.head()"
      ],
      "execution_count": null,
      "outputs": [
        {
          "output_type": "stream",
          "name": "stdout",
          "text": [
            "CPU times: user 82.5 ms, sys: 465 µs, total: 83 ms\n",
            "Wall time: 82.2 ms\n"
          ]
        }
      ]
    },
    {
      "cell_type": "markdown",
      "metadata": {
        "id": "EqiF5fZE2s7E"
      },
      "source": [
        "Dan, disini dengan menggunakan stopwords bahasa Inggris waktu preprocessing tidak memakan waktu lama."
      ]
    },
    {
      "cell_type": "markdown",
      "metadata": {
        "id": "QYSRT6QQO7TQ"
      },
      "source": [
        "# Proses 3 (Modeling dengan Metode Logistic Regression)"
      ]
    },
    {
      "cell_type": "markdown",
      "metadata": {
        "id": "seC-HU67O7TQ"
      },
      "source": [
        "# Logistic Regression"
      ]
    },
    {
      "cell_type": "code",
      "metadata": {
        "id": "OuebVpJnO7TQ",
        "colab": {
          "base_uri": "https://localhost:8080/"
        },
        "outputId": "60438f8a-0280-4981-971e-3d7270394029"
      },
      "source": [
        "#melakukan pemodelan prediksi\n",
        "\n",
        "%%time\n",
        "\n",
        "from sklearn.feature_extraction.text import TfidfVectorizer\n",
        "from sklearn.linear_model import LogisticRegression\n",
        "from sklearn.model_selection import train_test_split\n",
        "from sklearn.metrics import f1_score, log_loss\n",
        "\n",
        "#membangun vector space model/pembobotan dengan tfidf\n",
        "vectorizer = TfidfVectorizer(ngram_range=(1,3), min_df=10)\n",
        "features = vectorizer.fit_transform(df.clean_twt)\n",
        "\n",
        "#melakukan split data training untuk mengetahui akurasi\n",
        "X_train, X_test, y_train, y_test = train_test_split(features, y, test_size=0.2, random_state=4)\n",
        "\n",
        "#modeling sentiment\n",
        "LR_ = LogisticRegression(C=3, solver='liblinear', max_iter=150).fit(X_train, y_train)\n",
        "\n"
      ],
      "execution_count": null,
      "outputs": [
        {
          "output_type": "stream",
          "name": "stdout",
          "text": [
            "CPU times: user 88.9 ms, sys: 989 µs, total: 89.9 ms\n",
            "Wall time: 97.7 ms\n"
          ]
        }
      ]
    },
    {
      "cell_type": "code",
      "metadata": {
        "colab": {
          "base_uri": "https://localhost:8080/"
        },
        "id": "68ubY65irhna",
        "outputId": "35ce3f41-b9ea-4ac9-eea9-bb6513ecb91d"
      },
      "source": [
        "features"
      ],
      "execution_count": null,
      "outputs": [
        {
          "output_type": "execute_result",
          "data": {
            "text/plain": [
              "<1050x544 sparse matrix of type '<class 'numpy.float64'>'\n",
              "\twith 13126 stored elements in Compressed Sparse Row format>"
            ]
          },
          "metadata": {},
          "execution_count": 47
        }
      ]
    },
    {
      "cell_type": "markdown",
      "metadata": {
        "id": "AGLDsjlxO7TR"
      },
      "source": [
        "# Proses 4 (Evaluation)"
      ]
    },
    {
      "cell_type": "markdown",
      "metadata": {
        "id": "oWJJY9feO7TR"
      },
      "source": [
        "# Evaluation"
      ]
    },
    {
      "cell_type": "code",
      "metadata": {
        "id": "90yiG_1YO7TS",
        "colab": {
          "base_uri": "https://localhost:8080/"
        },
        "outputId": "1552c17e-4207-44cc-d2d9-882ec778d84a"
      },
      "source": [
        "#melakukan evaluasi\n",
        "yhat = LR_.predict(X_test)\n",
        "print('F1 score : ', f1_score(y_test, yhat, average='weighted'))\n",
        "\n",
        "yhat_prob = LR_.predict_proba(X_test)\n",
        "print ('Log Loss : ', log_loss(y_test, yhat_prob))"
      ],
      "execution_count": null,
      "outputs": [
        {
          "output_type": "stream",
          "name": "stdout",
          "text": [
            "F1 score :  0.7477404429785384\n",
            "Log Loss :  0.474976506543103\n"
          ]
        }
      ]
    },
    {
      "cell_type": "markdown",
      "metadata": {
        "id": "DZkcLp5UO7TS"
      },
      "source": [
        "# Proses 5 (End Process : Prediction of Data Testing)"
      ]
    },
    {
      "cell_type": "markdown",
      "metadata": {
        "id": "SPzIk_d7Eefo"
      },
      "source": [
        "# Testing Prediksi"
      ]
    },
    {
      "cell_type": "markdown",
      "metadata": {
        "id": "_v16ETW1O7TT"
      },
      "source": [
        "# Prediction"
      ]
    },
    {
      "cell_type": "code",
      "metadata": {
        "id": "ajObEu5XO7TT",
        "colab": {
          "base_uri": "https://localhost:8080/",
          "height": 205
        },
        "outputId": "a3a47262-e8b8-45dc-8b04-f9ca6ba66e63"
      },
      "source": [
        "#melakukan prediksi untuk data yang tidak diketahui labelnya\n",
        "\n",
        "#lakukan preprocessing untuk data yang tidak diketahui labelnya\n",
        "# df_test = pd.read_csv('juli2test.csv')\n",
        "df_test = pd.read_csv(r'https://raw.githubusercontent.com/rasyidev/well-known-datasets/main/juli2test.csv')\n",
        "df_test.head()"
      ],
      "execution_count": null,
      "outputs": [
        {
          "output_type": "execute_result",
          "data": {
            "text/html": [
              "<div>\n",
              "<style scoped>\n",
              "    .dataframe tbody tr th:only-of-type {\n",
              "        vertical-align: middle;\n",
              "    }\n",
              "\n",
              "    .dataframe tbody tr th {\n",
              "        vertical-align: top;\n",
              "    }\n",
              "\n",
              "    .dataframe thead th {\n",
              "        text-align: right;\n",
              "    }\n",
              "</style>\n",
              "<table border=\"1\" class=\"dataframe\">\n",
              "  <thead>\n",
              "    <tr style=\"text-align: right;\">\n",
              "      <th></th>\n",
              "      <th>tweet</th>\n",
              "    </tr>\n",
              "  </thead>\n",
              "  <tbody>\n",
              "    <tr>\n",
              "      <th>0</th>\n",
              "      <td>soal quran  polisi harus cari saksi yang den...</td>\n",
              "    </tr>\n",
              "    <tr>\n",
              "      <th>1</th>\n",
              "      <td>wajar  rachmawati tersinggung megawati bawa ...</td>\n",
              "    </tr>\n",
              "    <tr>\n",
              "      <th>2</th>\n",
              "      <td>rt @l   n  chirpified  mengapa anies b  gaga...</td>\n",
              "    </tr>\n",
              "    <tr>\n",
              "      <th>3</th>\n",
              "      <td>rt @sibonekakayu  kegaduhan yg diciptakan ah...</td>\n",
              "    </tr>\n",
              "    <tr>\n",
              "      <th>4</th>\n",
              "      <td>vivacoid  ini video saat nusron wahid kritik...</td>\n",
              "    </tr>\n",
              "  </tbody>\n",
              "</table>\n",
              "</div>"
            ],
            "text/plain": [
              "                                               tweet\n",
              "0    soal quran  polisi harus cari saksi yang den...\n",
              "1    wajar  rachmawati tersinggung megawati bawa ...\n",
              "2    rt @l   n  chirpified  mengapa anies b  gaga...\n",
              "3    rt @sibonekakayu  kegaduhan yg diciptakan ah...\n",
              "4    vivacoid  ini video saat nusron wahid kritik..."
            ]
          },
          "metadata": {},
          "execution_count": 29
        }
      ]
    },
    {
      "cell_type": "code",
      "metadata": {
        "scrolled": false,
        "id": "9VKIjhCsO7TU",
        "colab": {
          "base_uri": "https://localhost:8080/"
        },
        "outputId": "a8679da1-f4c7-41a8-bdd4-7a6627ad3483"
      },
      "source": [
        "#casefolding, filtering, steming data yang tidak diketahui labelnya\n",
        "\n",
        "# 1. Ganti PROCESSING jika pakai stopword Indonesia\n",
        "# 2. Ganti PROCESS jika pakai stopword English\n",
        "\n",
        "%%time\n",
        "\n",
        "df_test['clean_twt'] = df_test.tweet.apply(lambda x: preprocessing(x))\n",
        "df_test['clean_twt'] = df_test.clean_twt.str.replace('rt','')\n",
        "df_test.head()"
      ],
      "execution_count": null,
      "outputs": [
        {
          "output_type": "stream",
          "name": "stdout",
          "text": [
            "CPU times: user 272 ms, sys: 0 ns, total: 272 ms\n",
            "Wall time: 274 ms\n"
          ]
        }
      ]
    },
    {
      "cell_type": "code",
      "metadata": {
        "id": "WRxllaKMO7TU"
      },
      "source": [
        "#pembobotan data yang tidak diketahui labelnya\n",
        "#vector_test = TfidfVectorizer(ngram_range=(1,3), min df=10)\n",
        "#feature_test = vector_test.fit_transform(df_test.clean_twt)"
      ],
      "execution_count": null,
      "outputs": []
    },
    {
      "cell_type": "code",
      "metadata": {
        "id": "J2c5pfvIO7TV"
      },
      "source": [
        "#melakukan training\n",
        "def training_step(data, vectorizer) :\n",
        "    features = vectorizer.fit_transform(df.clean_twt)\n",
        "    LR_ = LogisticRegression(C = 3, solver='liblinear', max_iter=150).fit(features,y)\n",
        "    return LR_\n",
        "\n",
        "#melakukan testing\n",
        "classifier = training_step(df.clean_twt, vectorizer)\n",
        "result = classifier.predict(vectorizer.transform(df_test.clean_twt))\n",
        "\n",
        "#result"
      ],
      "execution_count": null,
      "outputs": []
    },
    {
      "cell_type": "code",
      "metadata": {
        "id": "31wMJYvMO7TV"
      },
      "source": [
        "#simpan hasil\n",
        "np.savetxt('hasil_prediksi_juli.txt', result, fmt='%i', delimiter='\\n')"
      ],
      "execution_count": null,
      "outputs": []
    },
    {
      "cell_type": "code",
      "metadata": {
        "id": "d7icCSqcO7TV",
        "colab": {
          "base_uri": "https://localhost:8080/",
          "height": 205
        },
        "outputId": "ec0af08d-0fe4-49dc-8c40-0d8667e2fea6"
      },
      "source": [
        "df_hasil = pd.read_csv(r'hasil_prediksi_juli.txt')\n",
        "df_hasil.head()"
      ],
      "execution_count": null,
      "outputs": [
        {
          "output_type": "execute_result",
          "data": {
            "text/html": [
              "<div>\n",
              "<style scoped>\n",
              "    .dataframe tbody tr th:only-of-type {\n",
              "        vertical-align: middle;\n",
              "    }\n",
              "\n",
              "    .dataframe tbody tr th {\n",
              "        vertical-align: top;\n",
              "    }\n",
              "\n",
              "    .dataframe thead th {\n",
              "        text-align: right;\n",
              "    }\n",
              "</style>\n",
              "<table border=\"1\" class=\"dataframe\">\n",
              "  <thead>\n",
              "    <tr style=\"text-align: right;\">\n",
              "      <th></th>\n",
              "      <th>1</th>\n",
              "    </tr>\n",
              "  </thead>\n",
              "  <tbody>\n",
              "    <tr>\n",
              "      <th>0</th>\n",
              "      <td>1</td>\n",
              "    </tr>\n",
              "    <tr>\n",
              "      <th>1</th>\n",
              "      <td>0</td>\n",
              "    </tr>\n",
              "    <tr>\n",
              "      <th>2</th>\n",
              "      <td>1</td>\n",
              "    </tr>\n",
              "    <tr>\n",
              "      <th>3</th>\n",
              "      <td>0</td>\n",
              "    </tr>\n",
              "    <tr>\n",
              "      <th>4</th>\n",
              "      <td>1</td>\n",
              "    </tr>\n",
              "  </tbody>\n",
              "</table>\n",
              "</div>"
            ],
            "text/plain": [
              "   1\n",
              "0  1\n",
              "1  0\n",
              "2  1\n",
              "3  0\n",
              "4  1"
            ]
          },
          "metadata": {},
          "execution_count": 34
        }
      ]
    },
    {
      "cell_type": "code",
      "metadata": {
        "id": "gCVG7-AprMqZ"
      },
      "source": [
        "def prediksi_komentar(comment):\n",
        "  result = classifier.predict(vectorizer.transform([comment]))\n",
        "  if result == 1:\n",
        "    return \"Positif\"\n",
        "  else:\n",
        "    return \"Negatif\""
      ],
      "execution_count": null,
      "outputs": []
    },
    {
      "cell_type": "code",
      "metadata": {
        "colab": {
          "base_uri": "https://localhost:8080/",
          "height": 35
        },
        "id": "1vpVvPUIrS42",
        "outputId": "697d9492-ed09-47fb-e504-507e2d69c9f3"
      },
      "source": [
        "prediksi_komentar('Wah ahok cocok jadi presiden nih')"
      ],
      "execution_count": null,
      "outputs": [
        {
          "output_type": "execute_result",
          "data": {
            "application/vnd.google.colaboratory.intrinsic+json": {
              "type": "string"
            },
            "text/plain": [
              "'Positif'"
            ]
          },
          "metadata": {},
          "execution_count": 36
        }
      ]
    },
    {
      "cell_type": "code",
      "metadata": {
        "id": "0jNnRAvHwgRL"
      },
      "source": [
        ""
      ],
      "execution_count": null,
      "outputs": []
    }
  ]
}