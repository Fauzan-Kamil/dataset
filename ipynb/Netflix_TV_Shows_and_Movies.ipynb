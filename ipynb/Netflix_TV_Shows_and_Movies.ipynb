{
  "nbformat": 4,
  "nbformat_minor": 0,
  "metadata": {
    "colab": {
      "name": "Netflix TV Shows and Movies.ipynb",
      "provenance": [],
      "collapsed_sections": []
    },
    "kernelspec": {
      "name": "python3",
      "display_name": "Python 3"
    },
    "language_info": {
      "name": "python"
    },
    "gpuClass": "standard"
  },
  "cells": [
    {
      "cell_type": "markdown",
      "source": [
        "# Dataset \n",
        "Menggunakan data dari Kaggle, Dataset ini memiliki dua file yang berisi judul ( titles.csv ) dan pemeran ( credits.csv ) untuk judul tersebut. Pada bagian ini dataset dicek jumlah data, missing values dan type data.\n",
        "\n",
        "Data : https://www.kaggle.com/datasets/victorsoeiro/netflix-tv-shows-and-movies"
      ],
      "metadata": {
        "id": "V3e2Nrk7JUBa"
      }
    },
    {
      "cell_type": "code",
      "source": [
        "#Library\n",
        "import numpy as np\n",
        "import pandas as pd\n",
        "import seaborn as sns\n",
        "import matplotlib.pyplot as plt\n",
        "from sklearn.impute import SimpleImputer"
      ],
      "metadata": {
        "id": "6JcyYeDFKUBd"
      },
      "execution_count": null,
      "outputs": []
    },
    {
      "cell_type": "code",
      "source": [
        "#Dataset\n",
        "df1 = pd.read_csv('https://raw.githubusercontent.com/Fauzan-Kamil/dataset/main/credits.csv')\n",
        "df1.tail()"
      ],
      "metadata": {
        "colab": {
          "base_uri": "https://localhost:8080/",
          "height": 206
        },
        "id": "k9lMF3SQKi09",
        "outputId": "0b86cb91-4ea1-497a-db78-25cc8534df96"
      },
      "execution_count": null,
      "outputs": [
        {
          "output_type": "execute_result",
          "data": {
            "text/plain": [
              "       person_id         id                name     character      role\n",
              "77796     736339  tm1059008    Adelaida Buscato     María Paz     ACTOR\n",
              "77797     399499  tm1059008  Luz Stella Luengas  Karen Bayona     ACTOR\n",
              "77798     373198  tm1059008         Inés Prieto         Fanny     ACTOR\n",
              "77799     378132  tm1059008        Isabel Gaona        Cacica     ACTOR\n",
              "77800    1950416  tm1059008      Julian Gaviria           NaN  DIRECTOR"
            ],
            "text/html": [
              "\n",
              "  <div id=\"df-51f8ed3b-924d-41b2-9e3a-47655900a132\">\n",
              "    <div class=\"colab-df-container\">\n",
              "      <div>\n",
              "<style scoped>\n",
              "    .dataframe tbody tr th:only-of-type {\n",
              "        vertical-align: middle;\n",
              "    }\n",
              "\n",
              "    .dataframe tbody tr th {\n",
              "        vertical-align: top;\n",
              "    }\n",
              "\n",
              "    .dataframe thead th {\n",
              "        text-align: right;\n",
              "    }\n",
              "</style>\n",
              "<table border=\"1\" class=\"dataframe\">\n",
              "  <thead>\n",
              "    <tr style=\"text-align: right;\">\n",
              "      <th></th>\n",
              "      <th>person_id</th>\n",
              "      <th>id</th>\n",
              "      <th>name</th>\n",
              "      <th>character</th>\n",
              "      <th>role</th>\n",
              "    </tr>\n",
              "  </thead>\n",
              "  <tbody>\n",
              "    <tr>\n",
              "      <th>77796</th>\n",
              "      <td>736339</td>\n",
              "      <td>tm1059008</td>\n",
              "      <td>Adelaida Buscato</td>\n",
              "      <td>María Paz</td>\n",
              "      <td>ACTOR</td>\n",
              "    </tr>\n",
              "    <tr>\n",
              "      <th>77797</th>\n",
              "      <td>399499</td>\n",
              "      <td>tm1059008</td>\n",
              "      <td>Luz Stella Luengas</td>\n",
              "      <td>Karen Bayona</td>\n",
              "      <td>ACTOR</td>\n",
              "    </tr>\n",
              "    <tr>\n",
              "      <th>77798</th>\n",
              "      <td>373198</td>\n",
              "      <td>tm1059008</td>\n",
              "      <td>Inés Prieto</td>\n",
              "      <td>Fanny</td>\n",
              "      <td>ACTOR</td>\n",
              "    </tr>\n",
              "    <tr>\n",
              "      <th>77799</th>\n",
              "      <td>378132</td>\n",
              "      <td>tm1059008</td>\n",
              "      <td>Isabel Gaona</td>\n",
              "      <td>Cacica</td>\n",
              "      <td>ACTOR</td>\n",
              "    </tr>\n",
              "    <tr>\n",
              "      <th>77800</th>\n",
              "      <td>1950416</td>\n",
              "      <td>tm1059008</td>\n",
              "      <td>Julian Gaviria</td>\n",
              "      <td>NaN</td>\n",
              "      <td>DIRECTOR</td>\n",
              "    </tr>\n",
              "  </tbody>\n",
              "</table>\n",
              "</div>\n",
              "      <button class=\"colab-df-convert\" onclick=\"convertToInteractive('df-51f8ed3b-924d-41b2-9e3a-47655900a132')\"\n",
              "              title=\"Convert this dataframe to an interactive table.\"\n",
              "              style=\"display:none;\">\n",
              "        \n",
              "  <svg xmlns=\"http://www.w3.org/2000/svg\" height=\"24px\"viewBox=\"0 0 24 24\"\n",
              "       width=\"24px\">\n",
              "    <path d=\"M0 0h24v24H0V0z\" fill=\"none\"/>\n",
              "    <path d=\"M18.56 5.44l.94 2.06.94-2.06 2.06-.94-2.06-.94-.94-2.06-.94 2.06-2.06.94zm-11 1L8.5 8.5l.94-2.06 2.06-.94-2.06-.94L8.5 2.5l-.94 2.06-2.06.94zm10 10l.94 2.06.94-2.06 2.06-.94-2.06-.94-.94-2.06-.94 2.06-2.06.94z\"/><path d=\"M17.41 7.96l-1.37-1.37c-.4-.4-.92-.59-1.43-.59-.52 0-1.04.2-1.43.59L10.3 9.45l-7.72 7.72c-.78.78-.78 2.05 0 2.83L4 21.41c.39.39.9.59 1.41.59.51 0 1.02-.2 1.41-.59l7.78-7.78 2.81-2.81c.8-.78.8-2.07 0-2.86zM5.41 20L4 18.59l7.72-7.72 1.47 1.35L5.41 20z\"/>\n",
              "  </svg>\n",
              "      </button>\n",
              "      \n",
              "  <style>\n",
              "    .colab-df-container {\n",
              "      display:flex;\n",
              "      flex-wrap:wrap;\n",
              "      gap: 12px;\n",
              "    }\n",
              "\n",
              "    .colab-df-convert {\n",
              "      background-color: #E8F0FE;\n",
              "      border: none;\n",
              "      border-radius: 50%;\n",
              "      cursor: pointer;\n",
              "      display: none;\n",
              "      fill: #1967D2;\n",
              "      height: 32px;\n",
              "      padding: 0 0 0 0;\n",
              "      width: 32px;\n",
              "    }\n",
              "\n",
              "    .colab-df-convert:hover {\n",
              "      background-color: #E2EBFA;\n",
              "      box-shadow: 0px 1px 2px rgba(60, 64, 67, 0.3), 0px 1px 3px 1px rgba(60, 64, 67, 0.15);\n",
              "      fill: #174EA6;\n",
              "    }\n",
              "\n",
              "    [theme=dark] .colab-df-convert {\n",
              "      background-color: #3B4455;\n",
              "      fill: #D2E3FC;\n",
              "    }\n",
              "\n",
              "    [theme=dark] .colab-df-convert:hover {\n",
              "      background-color: #434B5C;\n",
              "      box-shadow: 0px 1px 3px 1px rgba(0, 0, 0, 0.15);\n",
              "      filter: drop-shadow(0px 1px 2px rgba(0, 0, 0, 0.3));\n",
              "      fill: #FFFFFF;\n",
              "    }\n",
              "  </style>\n",
              "\n",
              "      <script>\n",
              "        const buttonEl =\n",
              "          document.querySelector('#df-51f8ed3b-924d-41b2-9e3a-47655900a132 button.colab-df-convert');\n",
              "        buttonEl.style.display =\n",
              "          google.colab.kernel.accessAllowed ? 'block' : 'none';\n",
              "\n",
              "        async function convertToInteractive(key) {\n",
              "          const element = document.querySelector('#df-51f8ed3b-924d-41b2-9e3a-47655900a132');\n",
              "          const dataTable =\n",
              "            await google.colab.kernel.invokeFunction('convertToInteractive',\n",
              "                                                     [key], {});\n",
              "          if (!dataTable) return;\n",
              "\n",
              "          const docLinkHtml = 'Like what you see? Visit the ' +\n",
              "            '<a target=\"_blank\" href=https://colab.research.google.com/notebooks/data_table.ipynb>data table notebook</a>'\n",
              "            + ' to learn more about interactive tables.';\n",
              "          element.innerHTML = '';\n",
              "          dataTable['output_type'] = 'display_data';\n",
              "          await google.colab.output.renderOutput(dataTable, element);\n",
              "          const docLink = document.createElement('div');\n",
              "          docLink.innerHTML = docLinkHtml;\n",
              "          element.appendChild(docLink);\n",
              "        }\n",
              "      </script>\n",
              "    </div>\n",
              "  </div>\n",
              "  "
            ]
          },
          "metadata": {},
          "execution_count": 19
        }
      ]
    },
    {
      "cell_type": "code",
      "source": [
        "df2 = pd.read_csv('https://raw.githubusercontent.com/Fauzan-Kamil/dataset/main/titles.csv')\n",
        "df2.tail()"
      ],
      "metadata": {
        "colab": {
          "base_uri": "https://localhost:8080/",
          "height": 600
        },
        "id": "HPlNzbOdK7ZJ",
        "outputId": "a8639958-4111-4c3c-bfbb-33f6adb8aa47"
      },
      "execution_count": null,
      "outputs": [
        {
          "output_type": "execute_result",
          "data": {
            "text/plain": [
              "             id                                      title   type  \\\n",
              "5845  tm1014599                                  Fine Wine  MOVIE   \n",
              "5846   tm898842                                C/O Kaadhal  MOVIE   \n",
              "5847  tm1059008                                    Lokillo  MOVIE   \n",
              "5848  tm1035612  Dad Stop Embarrassing Me - The Afterparty  MOVIE   \n",
              "5849   ts271048         Mighty Little Bheem: Kite Festival   SHOW   \n",
              "\n",
              "                                            description  release_year  \\\n",
              "5845  A beautiful love story that can happen between...          2021   \n",
              "5846  A heart warming film that explores the concept...          2021   \n",
              "5847  A controversial TV host and comedian who has b...          2021   \n",
              "5848  Jamie Foxx, David Alan Grier and more from the...          2021   \n",
              "5849  With winter behind them, Bheem and his townspe...          2021   \n",
              "\n",
              "     age_certification  runtime                             genres  \\\n",
              "5845               NaN      100               ['romance', 'drama']   \n",
              "5846               NaN      134                          ['drama']   \n",
              "5847               NaN       90                         ['comedy']   \n",
              "5848             PG-13       37                                 []   \n",
              "5849               NaN        7  ['family', 'animation', 'comedy']   \n",
              "\n",
              "     production_countries  seasons     imdb_id  imdb_score  imdb_votes  \\\n",
              "5845               ['NG']      NaN  tt13857480         6.8        45.0   \n",
              "5846                   []      NaN  tt11803618         7.7       348.0   \n",
              "5847               ['CO']      NaN  tt14585902         3.8        68.0   \n",
              "5848               ['US']      NaN         NaN         NaN         NaN   \n",
              "5849                   []      1.0  tt13711094         7.8        18.0   \n",
              "\n",
              "      tmdb_popularity  tmdb_score  \n",
              "5845            1.466         NaN  \n",
              "5846              NaN         NaN  \n",
              "5847           26.005         6.3  \n",
              "5848            1.296        10.0  \n",
              "5849            2.289        10.0  "
            ],
            "text/html": [
              "\n",
              "  <div id=\"df-581289da-f7af-45aa-9481-c3ce04945b6b\">\n",
              "    <div class=\"colab-df-container\">\n",
              "      <div>\n",
              "<style scoped>\n",
              "    .dataframe tbody tr th:only-of-type {\n",
              "        vertical-align: middle;\n",
              "    }\n",
              "\n",
              "    .dataframe tbody tr th {\n",
              "        vertical-align: top;\n",
              "    }\n",
              "\n",
              "    .dataframe thead th {\n",
              "        text-align: right;\n",
              "    }\n",
              "</style>\n",
              "<table border=\"1\" class=\"dataframe\">\n",
              "  <thead>\n",
              "    <tr style=\"text-align: right;\">\n",
              "      <th></th>\n",
              "      <th>id</th>\n",
              "      <th>title</th>\n",
              "      <th>type</th>\n",
              "      <th>description</th>\n",
              "      <th>release_year</th>\n",
              "      <th>age_certification</th>\n",
              "      <th>runtime</th>\n",
              "      <th>genres</th>\n",
              "      <th>production_countries</th>\n",
              "      <th>seasons</th>\n",
              "      <th>imdb_id</th>\n",
              "      <th>imdb_score</th>\n",
              "      <th>imdb_votes</th>\n",
              "      <th>tmdb_popularity</th>\n",
              "      <th>tmdb_score</th>\n",
              "    </tr>\n",
              "  </thead>\n",
              "  <tbody>\n",
              "    <tr>\n",
              "      <th>5845</th>\n",
              "      <td>tm1014599</td>\n",
              "      <td>Fine Wine</td>\n",
              "      <td>MOVIE</td>\n",
              "      <td>A beautiful love story that can happen between...</td>\n",
              "      <td>2021</td>\n",
              "      <td>NaN</td>\n",
              "      <td>100</td>\n",
              "      <td>['romance', 'drama']</td>\n",
              "      <td>['NG']</td>\n",
              "      <td>NaN</td>\n",
              "      <td>tt13857480</td>\n",
              "      <td>6.8</td>\n",
              "      <td>45.0</td>\n",
              "      <td>1.466</td>\n",
              "      <td>NaN</td>\n",
              "    </tr>\n",
              "    <tr>\n",
              "      <th>5846</th>\n",
              "      <td>tm898842</td>\n",
              "      <td>C/O Kaadhal</td>\n",
              "      <td>MOVIE</td>\n",
              "      <td>A heart warming film that explores the concept...</td>\n",
              "      <td>2021</td>\n",
              "      <td>NaN</td>\n",
              "      <td>134</td>\n",
              "      <td>['drama']</td>\n",
              "      <td>[]</td>\n",
              "      <td>NaN</td>\n",
              "      <td>tt11803618</td>\n",
              "      <td>7.7</td>\n",
              "      <td>348.0</td>\n",
              "      <td>NaN</td>\n",
              "      <td>NaN</td>\n",
              "    </tr>\n",
              "    <tr>\n",
              "      <th>5847</th>\n",
              "      <td>tm1059008</td>\n",
              "      <td>Lokillo</td>\n",
              "      <td>MOVIE</td>\n",
              "      <td>A controversial TV host and comedian who has b...</td>\n",
              "      <td>2021</td>\n",
              "      <td>NaN</td>\n",
              "      <td>90</td>\n",
              "      <td>['comedy']</td>\n",
              "      <td>['CO']</td>\n",
              "      <td>NaN</td>\n",
              "      <td>tt14585902</td>\n",
              "      <td>3.8</td>\n",
              "      <td>68.0</td>\n",
              "      <td>26.005</td>\n",
              "      <td>6.3</td>\n",
              "    </tr>\n",
              "    <tr>\n",
              "      <th>5848</th>\n",
              "      <td>tm1035612</td>\n",
              "      <td>Dad Stop Embarrassing Me - The Afterparty</td>\n",
              "      <td>MOVIE</td>\n",
              "      <td>Jamie Foxx, David Alan Grier and more from the...</td>\n",
              "      <td>2021</td>\n",
              "      <td>PG-13</td>\n",
              "      <td>37</td>\n",
              "      <td>[]</td>\n",
              "      <td>['US']</td>\n",
              "      <td>NaN</td>\n",
              "      <td>NaN</td>\n",
              "      <td>NaN</td>\n",
              "      <td>NaN</td>\n",
              "      <td>1.296</td>\n",
              "      <td>10.0</td>\n",
              "    </tr>\n",
              "    <tr>\n",
              "      <th>5849</th>\n",
              "      <td>ts271048</td>\n",
              "      <td>Mighty Little Bheem: Kite Festival</td>\n",
              "      <td>SHOW</td>\n",
              "      <td>With winter behind them, Bheem and his townspe...</td>\n",
              "      <td>2021</td>\n",
              "      <td>NaN</td>\n",
              "      <td>7</td>\n",
              "      <td>['family', 'animation', 'comedy']</td>\n",
              "      <td>[]</td>\n",
              "      <td>1.0</td>\n",
              "      <td>tt13711094</td>\n",
              "      <td>7.8</td>\n",
              "      <td>18.0</td>\n",
              "      <td>2.289</td>\n",
              "      <td>10.0</td>\n",
              "    </tr>\n",
              "  </tbody>\n",
              "</table>\n",
              "</div>\n",
              "      <button class=\"colab-df-convert\" onclick=\"convertToInteractive('df-581289da-f7af-45aa-9481-c3ce04945b6b')\"\n",
              "              title=\"Convert this dataframe to an interactive table.\"\n",
              "              style=\"display:none;\">\n",
              "        \n",
              "  <svg xmlns=\"http://www.w3.org/2000/svg\" height=\"24px\"viewBox=\"0 0 24 24\"\n",
              "       width=\"24px\">\n",
              "    <path d=\"M0 0h24v24H0V0z\" fill=\"none\"/>\n",
              "    <path d=\"M18.56 5.44l.94 2.06.94-2.06 2.06-.94-2.06-.94-.94-2.06-.94 2.06-2.06.94zm-11 1L8.5 8.5l.94-2.06 2.06-.94-2.06-.94L8.5 2.5l-.94 2.06-2.06.94zm10 10l.94 2.06.94-2.06 2.06-.94-2.06-.94-.94-2.06-.94 2.06-2.06.94z\"/><path d=\"M17.41 7.96l-1.37-1.37c-.4-.4-.92-.59-1.43-.59-.52 0-1.04.2-1.43.59L10.3 9.45l-7.72 7.72c-.78.78-.78 2.05 0 2.83L4 21.41c.39.39.9.59 1.41.59.51 0 1.02-.2 1.41-.59l7.78-7.78 2.81-2.81c.8-.78.8-2.07 0-2.86zM5.41 20L4 18.59l7.72-7.72 1.47 1.35L5.41 20z\"/>\n",
              "  </svg>\n",
              "      </button>\n",
              "      \n",
              "  <style>\n",
              "    .colab-df-container {\n",
              "      display:flex;\n",
              "      flex-wrap:wrap;\n",
              "      gap: 12px;\n",
              "    }\n",
              "\n",
              "    .colab-df-convert {\n",
              "      background-color: #E8F0FE;\n",
              "      border: none;\n",
              "      border-radius: 50%;\n",
              "      cursor: pointer;\n",
              "      display: none;\n",
              "      fill: #1967D2;\n",
              "      height: 32px;\n",
              "      padding: 0 0 0 0;\n",
              "      width: 32px;\n",
              "    }\n",
              "\n",
              "    .colab-df-convert:hover {\n",
              "      background-color: #E2EBFA;\n",
              "      box-shadow: 0px 1px 2px rgba(60, 64, 67, 0.3), 0px 1px 3px 1px rgba(60, 64, 67, 0.15);\n",
              "      fill: #174EA6;\n",
              "    }\n",
              "\n",
              "    [theme=dark] .colab-df-convert {\n",
              "      background-color: #3B4455;\n",
              "      fill: #D2E3FC;\n",
              "    }\n",
              "\n",
              "    [theme=dark] .colab-df-convert:hover {\n",
              "      background-color: #434B5C;\n",
              "      box-shadow: 0px 1px 3px 1px rgba(0, 0, 0, 0.15);\n",
              "      filter: drop-shadow(0px 1px 2px rgba(0, 0, 0, 0.3));\n",
              "      fill: #FFFFFF;\n",
              "    }\n",
              "  </style>\n",
              "\n",
              "      <script>\n",
              "        const buttonEl =\n",
              "          document.querySelector('#df-581289da-f7af-45aa-9481-c3ce04945b6b button.colab-df-convert');\n",
              "        buttonEl.style.display =\n",
              "          google.colab.kernel.accessAllowed ? 'block' : 'none';\n",
              "\n",
              "        async function convertToInteractive(key) {\n",
              "          const element = document.querySelector('#df-581289da-f7af-45aa-9481-c3ce04945b6b');\n",
              "          const dataTable =\n",
              "            await google.colab.kernel.invokeFunction('convertToInteractive',\n",
              "                                                     [key], {});\n",
              "          if (!dataTable) return;\n",
              "\n",
              "          const docLinkHtml = 'Like what you see? Visit the ' +\n",
              "            '<a target=\"_blank\" href=https://colab.research.google.com/notebooks/data_table.ipynb>data table notebook</a>'\n",
              "            + ' to learn more about interactive tables.';\n",
              "          element.innerHTML = '';\n",
              "          dataTable['output_type'] = 'display_data';\n",
              "          await google.colab.output.renderOutput(dataTable, element);\n",
              "          const docLink = document.createElement('div');\n",
              "          docLink.innerHTML = docLinkHtml;\n",
              "          element.appendChild(docLink);\n",
              "        }\n",
              "      </script>\n",
              "    </div>\n",
              "  </div>\n",
              "  "
            ]
          },
          "metadata": {},
          "execution_count": 8
        }
      ]
    },
    {
      "cell_type": "markdown",
      "source": [
        "# Data Preparation"
      ],
      "metadata": {
        "id": "A31sEDRBKJ0f"
      }
    },
    {
      "cell_type": "markdown",
      "source": [
        "## Cek Tipe Data"
      ],
      "metadata": {
        "id": "c9VTvucpRcK-"
      }
    },
    {
      "cell_type": "code",
      "execution_count": null,
      "metadata": {
        "colab": {
          "base_uri": "https://localhost:8080/"
        },
        "id": "0nlR4JI9JLJa",
        "outputId": "a0a9cf1c-2cfa-4c70-f5e4-d98a4debc732"
      },
      "outputs": [
        {
          "output_type": "execute_result",
          "data": {
            "text/plain": [
              "person_id     int64\n",
              "id           object\n",
              "name         object\n",
              "character    object\n",
              "role         object\n",
              "dtype: object"
            ]
          },
          "metadata": {},
          "execution_count": 23
        }
      ],
      "source": [
        "#Cek Tipe data\n",
        "df1.dtypes"
      ]
    },
    {
      "cell_type": "code",
      "source": [
        "df2.dtypes"
      ],
      "metadata": {
        "colab": {
          "base_uri": "https://localhost:8080/"
        },
        "id": "Eef1s_OuRDRH",
        "outputId": "2d1e8c10-b395-40ac-9350-32f6ab895c59"
      },
      "execution_count": null,
      "outputs": [
        {
          "output_type": "execute_result",
          "data": {
            "text/plain": [
              "id                       object\n",
              "title                    object\n",
              "type                     object\n",
              "description              object\n",
              "release_year              int64\n",
              "age_certification        object\n",
              "runtime                   int64\n",
              "genres                   object\n",
              "production_countries     object\n",
              "seasons                 float64\n",
              "imdb_id                  object\n",
              "imdb_score              float64\n",
              "imdb_votes              float64\n",
              "tmdb_popularity         float64\n",
              "tmdb_score              float64\n",
              "dtype: object"
            ]
          },
          "metadata": {},
          "execution_count": 14
        }
      ]
    },
    {
      "cell_type": "markdown",
      "source": [
        "## Cek Missing Values"
      ],
      "metadata": {
        "id": "4QQWdax4Ri3x"
      }
    },
    {
      "cell_type": "code",
      "source": [
        "df1.isnull().sum()"
      ],
      "metadata": {
        "colab": {
          "base_uri": "https://localhost:8080/"
        },
        "id": "XaOmLeUoRikF",
        "outputId": "33d77123-36b5-4eda-d3a0-dec5a923c461"
      },
      "execution_count": null,
      "outputs": [
        {
          "output_type": "execute_result",
          "data": {
            "text/plain": [
              "person_id       0\n",
              "id              0\n",
              "name            0\n",
              "character    9772\n",
              "role            0\n",
              "dtype: int64"
            ]
          },
          "metadata": {},
          "execution_count": 16
        }
      ]
    },
    {
      "cell_type": "markdown",
      "source": [
        "Karena tipe data 'character' adalah string sehingga, untuk nilai yang kosong atau missing values tidak bisa di isi dengan Simpel Imputer"
      ],
      "metadata": {
        "id": "qhQjgVr6WAwu"
      }
    },
    {
      "cell_type": "code",
      "source": [
        "df2.isnull().sum()"
      ],
      "metadata": {
        "colab": {
          "base_uri": "https://localhost:8080/"
        },
        "id": "VdBnHEogRucP",
        "outputId": "9798dcb6-f385-4e85-dd39-26b3b483c11b"
      },
      "execution_count": null,
      "outputs": [
        {
          "output_type": "execute_result",
          "data": {
            "text/plain": [
              "id                         0\n",
              "title                      1\n",
              "type                       0\n",
              "description               18\n",
              "release_year               0\n",
              "age_certification       2619\n",
              "runtime                    0\n",
              "genres                     0\n",
              "production_countries       0\n",
              "seasons                 3744\n",
              "imdb_id                  403\n",
              "imdb_score               482\n",
              "imdb_votes               498\n",
              "tmdb_popularity           91\n",
              "tmdb_score               311\n",
              "dtype: int64"
            ]
          },
          "metadata": {},
          "execution_count": 17
        }
      ]
    },
    {
      "cell_type": "markdown",
      "source": [
        "# Report\n",
        "\n"
      ],
      "metadata": {
        "id": "skG7eq8XW6_m"
      }
    }
  ]
}