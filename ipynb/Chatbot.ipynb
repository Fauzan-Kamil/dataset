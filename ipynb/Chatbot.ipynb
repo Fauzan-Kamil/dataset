{
  "nbformat": 4,
  "nbformat_minor": 0,
  "metadata": {
    "colab": {
      "name": "Chatbot.ipynb",
      "provenance": []
    },
    "kernelspec": {
      "name": "python3",
      "display_name": "Python 3"
    },
    "language_info": {
      "name": "python"
    }
  },
  "cells": [
    {
      "cell_type": "code",
      "metadata": {
        "colab": {
          "base_uri": "https://localhost:8080/"
        },
        "id": "K8RwnnYUICSz",
        "outputId": "fa1e1a96-7c85-4c30-f4ba-edf6150acb16"
      },
      "source": [
        "!pip install newspaper3k"
      ],
      "execution_count": null,
      "outputs": [
        {
          "output_type": "stream",
          "name": "stdout",
          "text": [
            "Requirement already satisfied: newspaper3k in /usr/local/lib/python3.7/dist-packages (0.2.8)\n",
            "Requirement already satisfied: lxml>=3.6.0 in /usr/local/lib/python3.7/dist-packages (from newspaper3k) (4.2.6)\n",
            "Requirement already satisfied: cssselect>=0.9.2 in /usr/local/lib/python3.7/dist-packages (from newspaper3k) (1.1.0)\n",
            "Requirement already satisfied: jieba3k>=0.35.1 in /usr/local/lib/python3.7/dist-packages (from newspaper3k) (0.35.1)\n",
            "Requirement already satisfied: PyYAML>=3.11 in /usr/local/lib/python3.7/dist-packages (from newspaper3k) (3.13)\n",
            "Requirement already satisfied: nltk>=3.2.1 in /usr/local/lib/python3.7/dist-packages (from newspaper3k) (3.2.5)\n",
            "Requirement already satisfied: python-dateutil>=2.5.3 in /usr/local/lib/python3.7/dist-packages (from newspaper3k) (2.8.2)\n",
            "Requirement already satisfied: tinysegmenter==0.3 in /usr/local/lib/python3.7/dist-packages (from newspaper3k) (0.3)\n",
            "Requirement already satisfied: requests>=2.10.0 in /usr/local/lib/python3.7/dist-packages (from newspaper3k) (2.23.0)\n",
            "Requirement already satisfied: beautifulsoup4>=4.4.1 in /usr/local/lib/python3.7/dist-packages (from newspaper3k) (4.6.3)\n",
            "Requirement already satisfied: Pillow>=3.3.0 in /usr/local/lib/python3.7/dist-packages (from newspaper3k) (7.1.2)\n",
            "Requirement already satisfied: feedfinder2>=0.0.4 in /usr/local/lib/python3.7/dist-packages (from newspaper3k) (0.0.4)\n",
            "Requirement already satisfied: tldextract>=2.0.1 in /usr/local/lib/python3.7/dist-packages (from newspaper3k) (3.1.2)\n",
            "Requirement already satisfied: feedparser>=5.2.1 in /usr/local/lib/python3.7/dist-packages (from newspaper3k) (6.0.8)\n",
            "Requirement already satisfied: six in /usr/local/lib/python3.7/dist-packages (from feedfinder2>=0.0.4->newspaper3k) (1.15.0)\n",
            "Requirement already satisfied: sgmllib3k in /usr/local/lib/python3.7/dist-packages (from feedparser>=5.2.1->newspaper3k) (1.0.0)\n",
            "Requirement already satisfied: certifi>=2017.4.17 in /usr/local/lib/python3.7/dist-packages (from requests>=2.10.0->newspaper3k) (2021.5.30)\n",
            "Requirement already satisfied: chardet<4,>=3.0.2 in /usr/local/lib/python3.7/dist-packages (from requests>=2.10.0->newspaper3k) (3.0.4)\n",
            "Requirement already satisfied: idna<3,>=2.5 in /usr/local/lib/python3.7/dist-packages (from requests>=2.10.0->newspaper3k) (2.10)\n",
            "Requirement already satisfied: urllib3!=1.25.0,!=1.25.1,<1.26,>=1.21.1 in /usr/local/lib/python3.7/dist-packages (from requests>=2.10.0->newspaper3k) (1.24.3)\n",
            "Requirement already satisfied: filelock>=3.0.8 in /usr/local/lib/python3.7/dist-packages (from tldextract>=2.0.1->newspaper3k) (3.3.0)\n",
            "Requirement already satisfied: requests-file>=1.4 in /usr/local/lib/python3.7/dist-packages (from tldextract>=2.0.1->newspaper3k) (1.5.1)\n"
          ]
        }
      ]
    },
    {
      "cell_type": "code",
      "metadata": {
        "id": "9AoaG0y6Ieci"
      },
      "source": [
        "#import libraries\n",
        "from newspaper import Article\n",
        "import random #mengambil nilai random\n",
        "import nltk\n",
        "import string\n",
        "from sklearn.feature_extraction.text import CountVectorizer\n",
        "from sklearn.metrics.pairwise import cosine_similarity\n",
        "import numpy as np\n",
        "import warnings\n",
        "warnings.filterwarnings('ignore')"
      ],
      "execution_count": null,
      "outputs": []
    },
    {
      "cell_type": "code",
      "metadata": {
        "colab": {
          "base_uri": "https://localhost:8080/"
        },
        "id": "mcOQEibdIpeG",
        "outputId": "ed81e898-0a25-4d10-e74a-4b18f608aedc"
      },
      "source": [
        "#Download the punk package\n",
        "nltk.download('punkt', quiet=True)"
      ],
      "execution_count": null,
      "outputs": [
        {
          "output_type": "execute_result",
          "data": {
            "text/plain": [
              "True"
            ]
          },
          "metadata": {},
          "execution_count": 94
        }
      ]
    },
    {
      "cell_type": "code",
      "metadata": {
        "colab": {
          "base_uri": "https://localhost:8080/"
        },
        "id": "WB-sjUjRIrb7",
        "outputId": "057a05cf-a913-4bca-f4d1-1b917800e6eb"
      },
      "source": [
        "#Ambil Artikel\n",
        "article = Article('https://teknologifiveg.blogspot.com/2021/10/apa-itu-teknologi-5g-cara-kerja-hingga.html')\n",
        "\n",
        "article.download()\n",
        "article.parse()\n",
        "article.nlp()\n",
        "corpus = article.text\n",
        "print(corpus)\n",
        "\n"
      ],
      "execution_count": null,
      "outputs": [
        {
          "output_type": "stream",
          "name": "stdout",
          "text": [
            "5G merupakan teknologi seluler generasi kelima. Ini dirancang untuk meningkatkan kecepatan, mengurangi latensi, dan meningkatkan fleksibilitas layanan nirkabel. Jaringan 5G juga akan menyederhanakan mobilitas, dengan kemampuan roaming terbuka tanpa batas antara akses seluler dan Wi-Fi. Pengguna seluler dapat tetap terhubung saat mereka berpindah antara koneksi nirkabel luar ruang dan jaringan nirkabel di dalam gedung tanpa campur tangan pengguna atau pengguna perlu mengautentikasi ulang.\n",
            "\n",
            "Cara Kerja: Teknologi 5G akan memperkenalkan kemajuan di seluruh arsitektur jaringan, Radio Baru 5G standar global untuk antarmuka udara nirkabel 5G yang lebih mampu, akan mencakup spektrum yang tidak digunakan dalam 4G. Antena baru akan menggabungkan teknologi yang dikenal sebagai MIMO masif (beberapa masukan, banyak keluaran), yang memungkinkan banyak pemancar dan penerima untuk mentransfer lebih banyak data pada saat yang bersamaan. Namun, teknologi 5G tidak terbatas pada spektrum radio baru. Ini dirancang untuk mendukung jaringan heterogen yang terkonvergensi yang menggabungkan teknologi nirkabel berlisensi dan tidak berlisensi. Ini akan menambah bandwidth yang tersedia untuk pengguna.\n",
            "\n",
            "Berikut manfaat teknologi 5G bagi pengguna internet seperti:\n",
            "\n",
            "Kemampuan internet berkecepatan tinggi 10 kali lebih cepat dari jaringan 4G Streaming film dan video tanpa nge-lag dan berkualitas tinggi Cloud gaming dengan latensi rendah Ketersediaan dan kapasitas data besar Kualitas video call lebih lancar dan jernih Terhubung dengan berbagai perangkat ioT Virtual Reality (VR) dan Augmenten Reality (AR) Kecepatan download tinggi.\n",
            "\n",
            "\n",
            "\n",
            "\n"
          ]
        }
      ]
    },
    {
      "cell_type": "code",
      "metadata": {
        "colab": {
          "base_uri": "https://localhost:8080/"
        },
        "id": "mWZcYzNVXj5D",
        "outputId": "00073c59-c2fe-46b4-9b3c-cf37d95e1a03"
      },
      "source": [
        "#tokenization\n",
        "text = corpus\n",
        "sentence_list = nltk.sent_tokenize(text) \n",
        "\n",
        "print(sentence_list)"
      ],
      "execution_count": null,
      "outputs": [
        {
          "output_type": "stream",
          "name": "stdout",
          "text": [
            "['5G merupakan teknologi seluler generasi kelima.', 'Ini dirancang untuk meningkatkan kecepatan, mengurangi latensi, dan meningkatkan fleksibilitas layanan nirkabel.', 'Jaringan 5G juga akan menyederhanakan mobilitas, dengan kemampuan roaming terbuka tanpa batas antara akses seluler dan Wi-Fi.', 'Pengguna seluler dapat tetap terhubung saat mereka berpindah antara koneksi nirkabel luar ruang dan jaringan nirkabel di dalam gedung tanpa campur tangan pengguna atau pengguna perlu mengautentikasi ulang.', 'Cara Kerja: Teknologi 5G akan memperkenalkan kemajuan di seluruh arsitektur jaringan, Radio Baru 5G standar global untuk antarmuka udara nirkabel 5G yang lebih mampu, akan mencakup spektrum yang tidak digunakan dalam 4G.', 'Antena baru akan menggabungkan teknologi yang dikenal sebagai MIMO masif (beberapa masukan, banyak keluaran), yang memungkinkan banyak pemancar dan penerima untuk mentransfer lebih banyak data pada saat yang bersamaan.', 'Namun, teknologi 5G tidak terbatas pada spektrum radio baru.', 'Ini dirancang untuk mendukung jaringan heterogen yang terkonvergensi yang menggabungkan teknologi nirkabel berlisensi dan tidak berlisensi.', 'Ini akan menambah bandwidth yang tersedia untuk pengguna.', 'Berikut manfaat teknologi 5G bagi pengguna internet seperti:\\n\\nKemampuan internet berkecepatan tinggi 10 kali lebih cepat dari jaringan 4G Streaming film dan video tanpa nge-lag dan berkualitas tinggi Cloud gaming dengan latensi rendah Ketersediaan dan kapasitas data besar Kualitas video call lebih lancar dan jernih Terhubung dengan berbagai perangkat ioT Virtual Reality (VR) dan Augmenten Reality (AR) Kecepatan download tinggi.']\n"
          ]
        }
      ]
    },
    {
      "cell_type": "code",
      "metadata": {
        "id": "JOYjHAg9I9Uh"
      },
      "source": [
        "#respon salam\n",
        "def greeting_response(text):\n",
        " text = text.lower()\n",
        "\n",
        " #Bot salam\n",
        " bot_greetings = [\"mangga\",\"hii\",\"hi\",\"hola\",\"hey\",\"hello\"]\n",
        " #Pengguna/user salam\n",
        " user_greetings = [\"punten\",\"hollaa\",\"hola\",\"hey\",\"hello\"]\n",
        " for word in text.split():\n",
        "  if word in user_greetings:\n",
        "    return random.choice(bot_greetings)"
      ],
      "execution_count": null,
      "outputs": []
    },
    {
      "cell_type": "code",
      "metadata": {
        "id": "f6JUcR3HKjjU"
      },
      "source": [
        "#respon thanks\n",
        "\n",
        "def gratitude_response(text):\n",
        "  text=text.lower()\n",
        "  bot_gratitude=[\"Senang bisa membantu\", \"Sama-sama\",\"Sama-sama gan\",\"Baik, Sama-sama.\"]\n",
        "  user_gratitude=[\"Thankyou\",\"thanks\",\"terimakasih\",\"terimakasih banyak\"]\n",
        "  for word in text.split():\n",
        "   if word in user_gratitude:\n",
        "     return random.choice(bot_gratitude)"
      ],
      "execution_count": null,
      "outputs": []
    },
    {
      "cell_type": "code",
      "metadata": {
        "id": "r5kAN1OCKlNT"
      },
      "source": [
        "# Teks Judul\n",
        "def index_sort(list_var):\n",
        " length = len(list_var)\n",
        " list_index = list(range(0,length))\n",
        " x = list_var\n",
        " for i in range(length):\n",
        "  for j in range(length):\n",
        "    if x [list_index[i]] > x [list_index[j]]:\n",
        "      #swap\n",
        "      temp = list_index[i]\n",
        "      list_index[i] = list_index[j]\n",
        "      list_index[j] = temp\n",
        "\n",
        " return list_index"
      ],
      "execution_count": null,
      "outputs": []
    },
    {
      "cell_type": "code",
      "metadata": {
        "id": "AcldbdfZKqPE"
      },
      "source": [
        "#Respons Bot\n",
        "def bot_response(user_input):\n",
        " user_input = user_input.lower()\n",
        " sentence_list.append(user_input)\n",
        " bot_response = \" \"\n",
        " cm = CountVectorizer().fit_transform(sentence_list)\n",
        " similarity_scores = cosine_similarity(cm[-1],cm)\n",
        " similarity_scores_list = similarity_scores.flatten()\n",
        " index = index_sort(similarity_scores_list)\n",
        " index = index[1:]\n",
        " response_flag = 0\n",
        "\n",
        " j = 0\n",
        " for i in range(len(index)):\n",
        "   if similarity_scores_list[index[i]] > 0.0:\n",
        "     bot_response = bot_response+' '+sentence_list[index[i]]\n",
        "     response_flag = 1\n",
        "     j = j+1\n",
        "     if j > 2:\n",
        "       break\n",
        "\n",
        " if response_flag == 0:\n",
        "   bot_response = bot_response+\" \"+\"maafkan aku, aku tidak mengerti\"\n",
        "\n",
        " sentence_list.remove(user_input) \n",
        "\n",
        " return bot_response"
      ],
      "execution_count": null,
      "outputs": []
    },
    {
      "cell_type": "code",
      "metadata": {
        "id": "tFDp7aqBKsQd"
      },
      "source": [
        "#Mulai Chat\n",
        "print(\"Bot: Bot akan menjawab tentang Jaringan 5G\")\n",
        "print(\"==============================================================================================\")\n",
        "\n",
        "exit_list = ['exit','bye','bai', 'Keluar']\n",
        "\n",
        "while(True):\n",
        "  user_input = input(\"Kamu : \")\n",
        "  if user_input.lower() in exit_list:\n",
        "    print(\"Bot: Baiii baiii sampai jumpa\")\n",
        "    print(\"==============================================================================================\")\n",
        "    break\n",
        "  elif greeting_response(user_input)!= None:\n",
        "    print(\"Bot: \"+ greeting_response(user_input))\n",
        "    print(\"==============================================================================================\")\n",
        "  elif gratitude_response(user_input)!= None:\n",
        "    print(\"Bot: \"+ gratitude_response(user_input)) \n",
        "    print(\"==============================================================================================\")\n",
        "  else:\n",
        "    print(\"Bot: \"+ bot_response(user_input))\n",
        "    print(\"==============================================================================================\")"
      ],
      "execution_count": null,
      "outputs": []
    },
    {
      "cell_type": "code",
      "metadata": {
        "id": "URRkZtj5M69r"
      },
      "source": [
        ""
      ],
      "execution_count": null,
      "outputs": []
    }
  ]
}