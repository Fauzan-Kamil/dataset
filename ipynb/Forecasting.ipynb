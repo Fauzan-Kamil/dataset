{
  "nbformat": 4,
  "nbformat_minor": 0,
  "metadata": {
    "colab": {
      "name": "Forecasting.ipynb",
      "provenance": []
    },
    "kernelspec": {
      "name": "python3",
      "display_name": "Python 3"
    },
    "language_info": {
      "name": "python"
    }
  },
  "cells": [
    {
      "cell_type": "markdown",
      "source": [
        "![image.png](data:image/png;base64,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)"
      ],
      "metadata": {
        "id": "-eoqzbvHiIVI"
      }
    },
    {
      "cell_type": "code",
      "source": [
        "#Impor pustaka\n",
        "import pandas as pd\n",
        "import numpy as np\n",
        "import matplotlib.pyplot as plt\n",
        "from sklearn import datasets\n",
        "from sklearn.neighbors import KNeighborsClassifier\n",
        "from sklearn.metrics import accuracy_score\n",
        "from sklearn.metrics import classification_report\n",
        "from google.colab import files\n",
        "import io"
      ],
      "metadata": {
        "id": "RB3tJ_o1h9_B"
      },
      "execution_count": 1,
      "outputs": []
    },
    {
      "cell_type": "code",
      "source": [
        "#persiapan data (populasi_colab)\n",
        "upload_files = files.upload()\n",
        "for filename in upload_files.keys():\n",
        "  x=upload_files[filename].decode('utf-8')\n",
        "dataset = pd.read_csv(io.StringIO(x), header=None)\n",
        "print(dataset.head())\n",
        "#persiapan data latih\n",
        "X=dataset.iloc[:, :1]\n",
        "Y=dataset.iloc[:,1:2].values\n",
        "#Membagi/split Data uji dengan validasi/test\n",
        "from sklearn.model_selection import train_test_split\n",
        "X_train, X_test, y_train, y_test = train_test_split(X,Y,test_size =0.1, random_state=0)"
      ],
      "metadata": {
        "colab": {
          "resources": {
            "http://localhost:8080/nbextensions/google.colab/files.js": {
              "data": "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",
              "ok": true,
              "headers": [
                [
                  "content-type",
                  "application/javascript"
                ]
              ],
              "status": 200,
              "status_text": ""
            }
          },
          "base_uri": "https://localhost:8080/",
          "height": 177
        },
        "id": "bIPPm9CvjAj7",
        "outputId": "bd8b787e-ddff-491c-b049-b822c288d4cc"
      },
      "execution_count": 2,
      "outputs": [
        {
          "output_type": "display_data",
          "data": {
            "text/plain": [
              "<IPython.core.display.HTML object>"
            ],
            "text/html": [
              "\n",
              "     <input type=\"file\" id=\"files-57478771-e335-409e-a49d-8d2a787e5c15\" name=\"files[]\" multiple disabled\n",
              "        style=\"border:none\" />\n",
              "     <output id=\"result-57478771-e335-409e-a49d-8d2a787e5c15\">\n",
              "      Upload widget is only available when the cell has been executed in the\n",
              "      current browser session. Please rerun this cell to enable.\n",
              "      </output>\n",
              "      <script src=\"/nbextensions/google.colab/files.js\"></script> "
            ]
          },
          "metadata": {}
        },
        {
          "output_type": "stream",
          "name": "stdout",
          "text": [
            "Saving populasi_colab.csv to populasi_colab.csv\n",
            "      0     1\n",
            "0  2003  1.88\n",
            "1  2006  2.08\n",
            "2  2009  2.32\n",
            "3  2012  2.52\n",
            "4  2015  2.73\n"
          ]
        }
      ]
    },
    {
      "cell_type": "code",
      "execution_count": 5,
      "metadata": {
        "id": "dmapCfdEhTY6",
        "colab": {
          "base_uri": "https://localhost:8080/"
        },
        "outputId": "7ab5c92f-a0ff-4736-bb59-06251eac7a9b"
      },
      "outputs": [
        {
          "output_type": "stream",
          "name": "stdout",
          "text": [
            "pengujian untuk tahun:\n",
            "      0\n",
            "5  2018\n",
            "Hasil Prediksi = \n",
            "[[3.804     ]\n",
            " [4.51733333]\n",
            " [5.23066667]\n",
            " [5.944     ]]\n"
          ]
        }
      ],
      "source": [
        "#peramalan\n",
        "print('pengujian untuk tahun:')\n",
        "print(X_test)\n",
        "#Fitting pada Data Training\n",
        "from sklearn.linear_model import LinearRegression\n",
        "regressor = LinearRegression()\n",
        "regressor.fit(X_train, y_train)\n",
        "#Memprediksi hasil dengan Data Tes\n",
        "#persiapan data yang akan diprediksi\n",
        "temp=[2030,2040,2050,2060]\n",
        "X_uji=np.array(temp).reshape(-1,1)\n",
        "y_pred=regressor.predict(X_uji)\n",
        "print('Hasil Prediksi = ')\n",
        "print(y_pred)"
      ]
    },
    {
      "cell_type": "code",
      "source": [
        "#persiapan data (populasi.csv)\n",
        "headers = [\"Tahun\", \"Populasi\"]\n",
        "dataset = pd.read_csv('populasi.csv', names=headers, header=None)\n",
        "#print(dataset.head())\n",
        "#persiapan data latih\n",
        "X=dataset.iloc[1:, :1]\n",
        "Y=dataset.iloc[1:,1:2].values\n",
        "#Membagi/split Data uji dengan validasi/test\n",
        "from sklearn.model_selection import train_test_split\n",
        "X_train, X_test, y_train, y_test = train_test_split(X,Y,test_size =0.3, random_state=0, shuffle=False)\n",
        "print(dataset)\n",
        "print(X)\n",
        "print(Y)"
      ],
      "metadata": {
        "colab": {
          "base_uri": "https://localhost:8080/"
        },
        "id": "Y1nzTWILh-Ke",
        "outputId": "1ef4ece2-94ee-4cc1-c302-ece96347e043"
      },
      "execution_count": 44,
      "outputs": [
        {
          "output_type": "stream",
          "name": "stdout",
          "text": [
            "   Tahun  Populasi\n",
            "0  Tahun  Populasi\n",
            "1   2003      1.88\n",
            "2   2006      2.08\n",
            "3   2009      2.32\n",
            "4   2012      2.52\n",
            "5   2015      2.73\n",
            "6   2018      3.01\n",
            "  Tahun\n",
            "1  2003\n",
            "2  2006\n",
            "3  2009\n",
            "4  2012\n",
            "5  2015\n",
            "6  2018\n",
            "[['1.88']\n",
            " ['2.08']\n",
            " ['2.32']\n",
            " ['2.52']\n",
            " ['2.73']\n",
            " ['3.01']]\n"
          ]
        }
      ]
    },
    {
      "cell_type": "code",
      "source": [
        "print('pengujian untuk tahun:')\n",
        "print(X_test)\n",
        "#Fitting pada Data Training\n",
        "from sklearn.linear_model import LinearRegression\n",
        "regressor = LinearRegression()\n",
        "regressor.fit(X_train, y_train)\n",
        "#Memprediksi hasil dengan Data Tes\n",
        "#persiapan data yang akan diprediksi\n",
        "temp=[2022,2023,2024]\n",
        "X_uji=np.array(temp).reshape(-1,1)\n",
        "y_pred=regressor.predict(X_uji)\n",
        "print('Hasil Prediksi = ')\n",
        "print(y_pred)"
      ],
      "metadata": {
        "colab": {
          "base_uri": "https://localhost:8080/"
        },
        "id": "0No65OYxnJhk",
        "outputId": "79f7ee54-2790-4e58-dbb5-683311447484"
      },
      "execution_count": 45,
      "outputs": [
        {
          "output_type": "stream",
          "name": "stdout",
          "text": [
            "pengujian untuk tahun:\n",
            "  Tahun\n",
            "5  2015\n",
            "6  2018\n",
            "Hasil Prediksi = \n",
            "[[3.244]\n",
            " [3.316]\n",
            " [3.388]]\n"
          ]
        },
        {
          "output_type": "stream",
          "name": "stderr",
          "text": [
            "/usr/local/lib/python3.7/dist-packages/sklearn/base.py:451: UserWarning: X does not have valid feature names, but LinearRegression was fitted with feature names\n",
            "  \"X does not have valid feature names, but\"\n"
          ]
        }
      ]
    },
    {
      "cell_type": "code",
      "source": [
        "X_test"
      ],
      "metadata": {
        "colab": {
          "base_uri": "https://localhost:8080/",
          "height": 112
        },
        "id": "3lubvEMfpiyw",
        "outputId": "92ce979e-46fc-468f-fb92-1f50e0e01ac5"
      },
      "execution_count": 47,
      "outputs": [
        {
          "output_type": "execute_result",
          "data": {
            "text/plain": [
              "  Tahun\n",
              "5  2015\n",
              "6  2018"
            ],
            "text/html": [
              "\n",
              "  <div id=\"df-03164dfd-f8da-4277-8eb4-bbd908d3d0eb\">\n",
              "    <div class=\"colab-df-container\">\n",
              "      <div>\n",
              "<style scoped>\n",
              "    .dataframe tbody tr th:only-of-type {\n",
              "        vertical-align: middle;\n",
              "    }\n",
              "\n",
              "    .dataframe tbody tr th {\n",
              "        vertical-align: top;\n",
              "    }\n",
              "\n",
              "    .dataframe thead th {\n",
              "        text-align: right;\n",
              "    }\n",
              "</style>\n",
              "<table border=\"1\" class=\"dataframe\">\n",
              "  <thead>\n",
              "    <tr style=\"text-align: right;\">\n",
              "      <th></th>\n",
              "      <th>Tahun</th>\n",
              "    </tr>\n",
              "  </thead>\n",
              "  <tbody>\n",
              "    <tr>\n",
              "      <th>5</th>\n",
              "      <td>2015</td>\n",
              "    </tr>\n",
              "    <tr>\n",
              "      <th>6</th>\n",
              "      <td>2018</td>\n",
              "    </tr>\n",
              "  </tbody>\n",
              "</table>\n",
              "</div>\n",
              "      <button class=\"colab-df-convert\" onclick=\"convertToInteractive('df-03164dfd-f8da-4277-8eb4-bbd908d3d0eb')\"\n",
              "              title=\"Convert this dataframe to an interactive table.\"\n",
              "              style=\"display:none;\">\n",
              "        \n",
              "  <svg xmlns=\"http://www.w3.org/2000/svg\" height=\"24px\"viewBox=\"0 0 24 24\"\n",
              "       width=\"24px\">\n",
              "    <path d=\"M0 0h24v24H0V0z\" fill=\"none\"/>\n",
              "    <path d=\"M18.56 5.44l.94 2.06.94-2.06 2.06-.94-2.06-.94-.94-2.06-.94 2.06-2.06.94zm-11 1L8.5 8.5l.94-2.06 2.06-.94-2.06-.94L8.5 2.5l-.94 2.06-2.06.94zm10 10l.94 2.06.94-2.06 2.06-.94-2.06-.94-.94-2.06-.94 2.06-2.06.94z\"/><path d=\"M17.41 7.96l-1.37-1.37c-.4-.4-.92-.59-1.43-.59-.52 0-1.04.2-1.43.59L10.3 9.45l-7.72 7.72c-.78.78-.78 2.05 0 2.83L4 21.41c.39.39.9.59 1.41.59.51 0 1.02-.2 1.41-.59l7.78-7.78 2.81-2.81c.8-.78.8-2.07 0-2.86zM5.41 20L4 18.59l7.72-7.72 1.47 1.35L5.41 20z\"/>\n",
              "  </svg>\n",
              "      </button>\n",
              "      \n",
              "  <style>\n",
              "    .colab-df-container {\n",
              "      display:flex;\n",
              "      flex-wrap:wrap;\n",
              "      gap: 12px;\n",
              "    }\n",
              "\n",
              "    .colab-df-convert {\n",
              "      background-color: #E8F0FE;\n",
              "      border: none;\n",
              "      border-radius: 50%;\n",
              "      cursor: pointer;\n",
              "      display: none;\n",
              "      fill: #1967D2;\n",
              "      height: 32px;\n",
              "      padding: 0 0 0 0;\n",
              "      width: 32px;\n",
              "    }\n",
              "\n",
              "    .colab-df-convert:hover {\n",
              "      background-color: #E2EBFA;\n",
              "      box-shadow: 0px 1px 2px rgba(60, 64, 67, 0.3), 0px 1px 3px 1px rgba(60, 64, 67, 0.15);\n",
              "      fill: #174EA6;\n",
              "    }\n",
              "\n",
              "    [theme=dark] .colab-df-convert {\n",
              "      background-color: #3B4455;\n",
              "      fill: #D2E3FC;\n",
              "    }\n",
              "\n",
              "    [theme=dark] .colab-df-convert:hover {\n",
              "      background-color: #434B5C;\n",
              "      box-shadow: 0px 1px 3px 1px rgba(0, 0, 0, 0.15);\n",
              "      filter: drop-shadow(0px 1px 2px rgba(0, 0, 0, 0.3));\n",
              "      fill: #FFFFFF;\n",
              "    }\n",
              "  </style>\n",
              "\n",
              "      <script>\n",
              "        const buttonEl =\n",
              "          document.querySelector('#df-03164dfd-f8da-4277-8eb4-bbd908d3d0eb button.colab-df-convert');\n",
              "        buttonEl.style.display =\n",
              "          google.colab.kernel.accessAllowed ? 'block' : 'none';\n",
              "\n",
              "        async function convertToInteractive(key) {\n",
              "          const element = document.querySelector('#df-03164dfd-f8da-4277-8eb4-bbd908d3d0eb');\n",
              "          const dataTable =\n",
              "            await google.colab.kernel.invokeFunction('convertToInteractive',\n",
              "                                                     [key], {});\n",
              "          if (!dataTable) return;\n",
              "\n",
              "          const docLinkHtml = 'Like what you see? Visit the ' +\n",
              "            '<a target=\"_blank\" href=https://colab.research.google.com/notebooks/data_table.ipynb>data table notebook</a>'\n",
              "            + ' to learn more about interactive tables.';\n",
              "          element.innerHTML = '';\n",
              "          dataTable['output_type'] = 'display_data';\n",
              "          await google.colab.output.renderOutput(dataTable, element);\n",
              "          const docLink = document.createElement('div');\n",
              "          docLink.innerHTML = docLinkHtml;\n",
              "          element.appendChild(docLink);\n",
              "        }\n",
              "      </script>\n",
              "    </div>\n",
              "  </div>\n",
              "  "
            ]
          },
          "metadata": {},
          "execution_count": 47
        }
      ]
    },
    {
      "cell_type": "code",
      "source": [
        "X_train"
      ],
      "metadata": {
        "colab": {
          "base_uri": "https://localhost:8080/",
          "height": 175
        },
        "id": "Uf7htTxbqJP0",
        "outputId": "496a93e3-87d3-4c45-b99b-c177e05e508e"
      },
      "execution_count": 48,
      "outputs": [
        {
          "output_type": "execute_result",
          "data": {
            "text/plain": [
              "  Tahun\n",
              "1  2003\n",
              "2  2006\n",
              "3  2009\n",
              "4  2012"
            ],
            "text/html": [
              "\n",
              "  <div id=\"df-d0ac63d1-8664-4515-9984-00c77606779f\">\n",
              "    <div class=\"colab-df-container\">\n",
              "      <div>\n",
              "<style scoped>\n",
              "    .dataframe tbody tr th:only-of-type {\n",
              "        vertical-align: middle;\n",
              "    }\n",
              "\n",
              "    .dataframe tbody tr th {\n",
              "        vertical-align: top;\n",
              "    }\n",
              "\n",
              "    .dataframe thead th {\n",
              "        text-align: right;\n",
              "    }\n",
              "</style>\n",
              "<table border=\"1\" class=\"dataframe\">\n",
              "  <thead>\n",
              "    <tr style=\"text-align: right;\">\n",
              "      <th></th>\n",
              "      <th>Tahun</th>\n",
              "    </tr>\n",
              "  </thead>\n",
              "  <tbody>\n",
              "    <tr>\n",
              "      <th>1</th>\n",
              "      <td>2003</td>\n",
              "    </tr>\n",
              "    <tr>\n",
              "      <th>2</th>\n",
              "      <td>2006</td>\n",
              "    </tr>\n",
              "    <tr>\n",
              "      <th>3</th>\n",
              "      <td>2009</td>\n",
              "    </tr>\n",
              "    <tr>\n",
              "      <th>4</th>\n",
              "      <td>2012</td>\n",
              "    </tr>\n",
              "  </tbody>\n",
              "</table>\n",
              "</div>\n",
              "      <button class=\"colab-df-convert\" onclick=\"convertToInteractive('df-d0ac63d1-8664-4515-9984-00c77606779f')\"\n",
              "              title=\"Convert this dataframe to an interactive table.\"\n",
              "              style=\"display:none;\">\n",
              "        \n",
              "  <svg xmlns=\"http://www.w3.org/2000/svg\" height=\"24px\"viewBox=\"0 0 24 24\"\n",
              "       width=\"24px\">\n",
              "    <path d=\"M0 0h24v24H0V0z\" fill=\"none\"/>\n",
              "    <path d=\"M18.56 5.44l.94 2.06.94-2.06 2.06-.94-2.06-.94-.94-2.06-.94 2.06-2.06.94zm-11 1L8.5 8.5l.94-2.06 2.06-.94-2.06-.94L8.5 2.5l-.94 2.06-2.06.94zm10 10l.94 2.06.94-2.06 2.06-.94-2.06-.94-.94-2.06-.94 2.06-2.06.94z\"/><path d=\"M17.41 7.96l-1.37-1.37c-.4-.4-.92-.59-1.43-.59-.52 0-1.04.2-1.43.59L10.3 9.45l-7.72 7.72c-.78.78-.78 2.05 0 2.83L4 21.41c.39.39.9.59 1.41.59.51 0 1.02-.2 1.41-.59l7.78-7.78 2.81-2.81c.8-.78.8-2.07 0-2.86zM5.41 20L4 18.59l7.72-7.72 1.47 1.35L5.41 20z\"/>\n",
              "  </svg>\n",
              "      </button>\n",
              "      \n",
              "  <style>\n",
              "    .colab-df-container {\n",
              "      display:flex;\n",
              "      flex-wrap:wrap;\n",
              "      gap: 12px;\n",
              "    }\n",
              "\n",
              "    .colab-df-convert {\n",
              "      background-color: #E8F0FE;\n",
              "      border: none;\n",
              "      border-radius: 50%;\n",
              "      cursor: pointer;\n",
              "      display: none;\n",
              "      fill: #1967D2;\n",
              "      height: 32px;\n",
              "      padding: 0 0 0 0;\n",
              "      width: 32px;\n",
              "    }\n",
              "\n",
              "    .colab-df-convert:hover {\n",
              "      background-color: #E2EBFA;\n",
              "      box-shadow: 0px 1px 2px rgba(60, 64, 67, 0.3), 0px 1px 3px 1px rgba(60, 64, 67, 0.15);\n",
              "      fill: #174EA6;\n",
              "    }\n",
              "\n",
              "    [theme=dark] .colab-df-convert {\n",
              "      background-color: #3B4455;\n",
              "      fill: #D2E3FC;\n",
              "    }\n",
              "\n",
              "    [theme=dark] .colab-df-convert:hover {\n",
              "      background-color: #434B5C;\n",
              "      box-shadow: 0px 1px 3px 1px rgba(0, 0, 0, 0.15);\n",
              "      filter: drop-shadow(0px 1px 2px rgba(0, 0, 0, 0.3));\n",
              "      fill: #FFFFFF;\n",
              "    }\n",
              "  </style>\n",
              "\n",
              "      <script>\n",
              "        const buttonEl =\n",
              "          document.querySelector('#df-d0ac63d1-8664-4515-9984-00c77606779f button.colab-df-convert');\n",
              "        buttonEl.style.display =\n",
              "          google.colab.kernel.accessAllowed ? 'block' : 'none';\n",
              "\n",
              "        async function convertToInteractive(key) {\n",
              "          const element = document.querySelector('#df-d0ac63d1-8664-4515-9984-00c77606779f');\n",
              "          const dataTable =\n",
              "            await google.colab.kernel.invokeFunction('convertToInteractive',\n",
              "                                                     [key], {});\n",
              "          if (!dataTable) return;\n",
              "\n",
              "          const docLinkHtml = 'Like what you see? Visit the ' +\n",
              "            '<a target=\"_blank\" href=https://colab.research.google.com/notebooks/data_table.ipynb>data table notebook</a>'\n",
              "            + ' to learn more about interactive tables.';\n",
              "          element.innerHTML = '';\n",
              "          dataTable['output_type'] = 'display_data';\n",
              "          await google.colab.output.renderOutput(dataTable, element);\n",
              "          const docLink = document.createElement('div');\n",
              "          docLink.innerHTML = docLinkHtml;\n",
              "          element.appendChild(docLink);\n",
              "        }\n",
              "      </script>\n",
              "    </div>\n",
              "  </div>\n",
              "  "
            ]
          },
          "metadata": {},
          "execution_count": 48
        }
      ]
    },
    {
      "cell_type": "code",
      "source": [
        "X_uji"
      ],
      "metadata": {
        "colab": {
          "base_uri": "https://localhost:8080/"
        },
        "id": "BTpDfzvqrKGd",
        "outputId": "e663b695-ae9c-43a1-b2a0-5da46e16b922"
      },
      "execution_count": 50,
      "outputs": [
        {
          "output_type": "execute_result",
          "data": {
            "text/plain": [
              "array([[2022],\n",
              "       [2023],\n",
              "       [2024]])"
            ]
          },
          "metadata": {},
          "execution_count": 50
        }
      ]
    }
  ]
}