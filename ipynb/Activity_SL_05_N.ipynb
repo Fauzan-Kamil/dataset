{
 "cells": [
  {
   "cell_type": "markdown",
   "metadata": {
    "id": "ZFWBiGUewdoy"
   },
   "source": [
    "# Bug"
   ]
  },
  {
   "cell_type": "code",
   "execution_count": null,
   "metadata": {
    "id": "ogX9RoDqwdo2"
   },
   "outputs": [],
   "source": [
    "#Syntax Error\n",
    "def sumarray(arr):\n",
    "    sum = 0\n",
    "    for a in arrs:\n",
    "        sum = sum+a\n",
    "    return sum\n",
    "\n",
    "print(sumarray([1,2,3,4]))\n"
   ]
  },
  {
   "cell_type": "markdown",
   "metadata": {
    "id": "QI5mHh_Ewdo5"
   },
   "source": [
    "Dalam block code diatas, terlihat kalau terjadi kesalahan penulisan syntax. dimana itu terjadi pada line 4, harusnya ada arr bukan arrs"
   ]
  },
  {
   "cell_type": "markdown",
   "metadata": {
    "id": "_w3ul1jwwdo6"
   },
   "source": [
    "### !!WARNING JANGAN RUN CODE DI BAWAH INI DI LOCAL MACHINE!!"
   ]
  },
  {
   "cell_type": "code",
   "execution_count": null,
   "metadata": {
    "id": "jkaYM5ikwdo7"
   },
   "outputs": [],
   "source": [
    "#Logic Error\n",
    "angka = 1\n",
    "list_angka = []\n",
    "while angka%2!=0:\n",
    "    list_angka.append(angka)\n",
    "    angka*=3   #variabel angka merupakan bilangan pangkat 3"
   ]
  },
  {
   "cell_type": "markdown",
   "metadata": {
    "id": "LiPfmmRbwdo8"
   },
   "source": [
    "Dalam block code diatas akan terjadi infinite loop, karena loop diatas akan berhenti jika variabel \"angka\" bernilai genap, sedangkan jikalau dilihat dari logic kodenya, variabel \"angka\" tidak akan pernah menyentuh angka genap karena variabel \"angka\" berisi bilangan pangkat 3. ini dinamakan kesalahan logic"
   ]
  },
  {
   "cell_type": "markdown",
   "metadata": {
    "id": "1IgaRhJRwdo9"
   },
   "source": [
    "# Debugging"
   ]
  },
  {
   "cell_type": "markdown",
   "metadata": {
    "id": "ObBjU50Nwdo9"
   },
   "source": [
    "## Brute Force Method"
   ]
  },
  {
   "cell_type": "code",
   "execution_count": null,
   "metadata": {
    "id": "Q3V5i1fZX79D"
   },
   "outputs": [],
   "source": [
    "#Program menghitung rata-rata dari sebuah list\n",
    "\n",
    "data = [1,2,3,4,5,10,23]\n",
    "sum = 0\n",
    "for i in data:\n",
    "  sum = sum*i\n",
    "\n",
    "rata_rata = sum/len(data)\n",
    "print(rata_rata)"
   ]
  },
  {
   "cell_type": "markdown",
   "metadata": {
    "id": "1myRHQv7YXC-"
   },
   "source": [
    "Kita bisa lihat pada program diatas kalau hasil output dari program tidak seperti yg kita mau, Harusnya output yg keluar adalah nilai rata-rata dari list \"data\", tapi ternyata output yang keluar adalah 0.0. Disini kita akan mencari tahu bugnya menggunakan bruteforce methods"
   ]
  },
  {
   "cell_type": "code",
   "execution_count": null,
   "metadata": {
    "id": "K-y0kT66Y1mm"
   },
   "outputs": [],
   "source": [
    "#Program menghitung rata-rata dari sebuah list\n",
    "\n",
    "data = [1,2,3,4,5,10,23]\n",
    "sum = 0\n",
    "for i in data:\n",
    "  print(\"sum : \", sum)\n",
    "  print(\"i :\", i)\n",
    "  sum = sum+i\n",
    "  print(\"sum setelah operasi : \", sum)\n",
    "\n",
    "rata_rata = sum/len(data)\n",
    "print(rata_rata)"
   ]
  },
  {
   "cell_type": "markdown",
   "metadata": {
    "id": "I2KBBdRxZpyG"
   },
   "source": [
    "Menggunakan metode bruteforce berarti kita mencoba mencetak semua variabel yang ada dalam proses. Disini kita melihat kalat nilai sum sebelum dioperasikan dan setelah dioperasikan tidak berubah. Ternyata terjadi kesalahan operasi, dimana kalau mencari sum harusnya menggunakan operasi + (tambah) akan tetapi ini malah menggunakan operasi * (perkalian)"
   ]
  },
  {
   "cell_type": "code",
   "execution_count": null,
   "metadata": {
    "id": "vGu33WQvaC2b"
   },
   "outputs": [],
   "source": [
    "#Program menghitung rata-rata dari sebuah list\n",
    "\n",
    "data = [1,2,3,4,5,10,23]\n",
    "sum = 0\n",
    "for i in data:\n",
    "  print(\"sum : \", sum)\n",
    "  print(\"i :\", i)\n",
    "  sum = sum+i\n",
    "  print(\"sum setelah operasi : \", sum)\n",
    "\n",
    "rata_rata = sum/len(a)\n",
    "print(\"\\n\\nRata - rata List : \", rata_rata)"
   ]
  },
  {
   "cell_type": "markdown",
   "metadata": {
    "id": "b2hFRQR3ayhY"
   },
   "source": [
    "Lalu setelah kita betulkan bugnya, maka akan benar outputnya. Bug diatas adalah salah satu contoh Logic Bug"
   ]
  },
  {
   "cell_type": "markdown",
   "metadata": {
    "id": "LBLMpV5twdpH"
   },
   "source": [
    "# Activity"
   ]
  },
  {
   "cell_type": "markdown",
   "metadata": {
    "id": "4244UC6_wdpH"
   },
   "source": [
    "Student akan diminta untuk melengkapi code dan memfix bug yang ada pada source code di bawah"
   ]
  },
  {
   "cell_type": "markdown",
   "metadata": {
    "id": "5SQfLTq5Qk18"
   },
   "source": [
    "## Activity Mudah"
   ]
  },
  {
   "cell_type": "markdown",
   "metadata": {
    "id": "HqMH5V4lwxON"
   },
   "source": [
    "# Debugging Linear Search algorithm"
   ]
  },
  {
   "cell_type": "code",
   "execution_count": 1,
   "metadata": {},
   "outputs": [
    {
     "ename": "SyntaxError",
     "evalue": "invalid syntax (<ipython-input-1-01a521a148cc>, line 1)",
     "output_type": "error",
     "traceback": [
      "\u001b[1;36m  File \u001b[1;32m\"<ipython-input-1-01a521a148cc>\"\u001b[1;36m, line \u001b[1;32m1\u001b[0m\n\u001b[1;33m    def linear_search(\"arr\"):\u001b[0m\n\u001b[1;37m                          ^\u001b[0m\n\u001b[1;31mSyntaxError\u001b[0m\u001b[1;31m:\u001b[0m invalid syntax\n"
     ]
    }
   ],
   "source": [
    "def linear_search(\"arr\"):\n",
    "  for index, item in enumerate(arr):\n",
    "    if item == _____: #Ganti _____ dengan syntax yang benar\n",
    "      print(f'Ketemu {item} di index ke-{index}')\n",
    "      # return index\n",
    "\n",
    "\n",
    "angka = [1,3,4,5,223,7,54,23]\n",
    "\n",
    "linear_search(223)\n"
   ]
  },
  {
   "cell_type": "code",
   "execution_count": 2,
   "metadata": {
    "id": "i7iDvQXBPhbs"
   },
   "outputs": [
    {
     "ename": "FileNotFoundError",
     "evalue": "[Errno 2] File freshman_kgs.csv does not exist: 'freshman_kgs.csv'",
     "output_type": "error",
     "traceback": [
      "\u001b[1;31m---------------------------------------------------------------------------\u001b[0m",
      "\u001b[1;31mFileNotFoundError\u001b[0m                         Traceback (most recent call last)",
      "\u001b[1;32m<ipython-input-2-5800897ac8c2>\u001b[0m in \u001b[0;36m<module>\u001b[1;34m\u001b[0m\n\u001b[0;32m      6\u001b[0m \u001b[0mfile\u001b[0m \u001b[1;33m=\u001b[0m \u001b[1;34m'freshman_kgs.csv'\u001b[0m\u001b[1;33m\u001b[0m\u001b[1;33m\u001b[0m\u001b[0m\n\u001b[0;32m      7\u001b[0m \u001b[1;33m\u001b[0m\u001b[0m\n\u001b[1;32m----> 8\u001b[1;33m \u001b[0mdataframe\u001b[0m \u001b[1;33m=\u001b[0m \u001b[0mpd\u001b[0m\u001b[1;33m.\u001b[0m\u001b[0mread_csv\u001b[0m\u001b[1;33m(\u001b[0m\u001b[0mfile\u001b[0m\u001b[1;33m)\u001b[0m\u001b[1;33m\u001b[0m\u001b[1;33m\u001b[0m\u001b[0m\n\u001b[0m\u001b[0;32m      9\u001b[0m \u001b[1;33m\u001b[0m\u001b[0m\n\u001b[0;32m     10\u001b[0m dataframe[[' \"Weight (Sep)\"', ' \"Weight (Apr)\"']].plot(kind='scatter', x=' \"Weight (Sep)\"', y=' \"Weight (Apr)\"', \n",
      "\u001b[1;32m~\\Anaconda3\\lib\\site-packages\\pandas\\io\\parsers.py\u001b[0m in \u001b[0;36mparser_f\u001b[1;34m(filepath_or_buffer, sep, delimiter, header, names, index_col, usecols, squeeze, prefix, mangle_dupe_cols, dtype, engine, converters, true_values, false_values, skipinitialspace, skiprows, skipfooter, nrows, na_values, keep_default_na, na_filter, verbose, skip_blank_lines, parse_dates, infer_datetime_format, keep_date_col, date_parser, dayfirst, cache_dates, iterator, chunksize, compression, thousands, decimal, lineterminator, quotechar, quoting, doublequote, escapechar, comment, encoding, dialect, error_bad_lines, warn_bad_lines, delim_whitespace, low_memory, memory_map, float_precision)\u001b[0m\n\u001b[0;32m    674\u001b[0m         )\n\u001b[0;32m    675\u001b[0m \u001b[1;33m\u001b[0m\u001b[0m\n\u001b[1;32m--> 676\u001b[1;33m         \u001b[1;32mreturn\u001b[0m \u001b[0m_read\u001b[0m\u001b[1;33m(\u001b[0m\u001b[0mfilepath_or_buffer\u001b[0m\u001b[1;33m,\u001b[0m \u001b[0mkwds\u001b[0m\u001b[1;33m)\u001b[0m\u001b[1;33m\u001b[0m\u001b[1;33m\u001b[0m\u001b[0m\n\u001b[0m\u001b[0;32m    677\u001b[0m \u001b[1;33m\u001b[0m\u001b[0m\n\u001b[0;32m    678\u001b[0m     \u001b[0mparser_f\u001b[0m\u001b[1;33m.\u001b[0m\u001b[0m__name__\u001b[0m \u001b[1;33m=\u001b[0m \u001b[0mname\u001b[0m\u001b[1;33m\u001b[0m\u001b[1;33m\u001b[0m\u001b[0m\n",
      "\u001b[1;32m~\\Anaconda3\\lib\\site-packages\\pandas\\io\\parsers.py\u001b[0m in \u001b[0;36m_read\u001b[1;34m(filepath_or_buffer, kwds)\u001b[0m\n\u001b[0;32m    446\u001b[0m \u001b[1;33m\u001b[0m\u001b[0m\n\u001b[0;32m    447\u001b[0m     \u001b[1;31m# Create the parser.\u001b[0m\u001b[1;33m\u001b[0m\u001b[1;33m\u001b[0m\u001b[1;33m\u001b[0m\u001b[0m\n\u001b[1;32m--> 448\u001b[1;33m     \u001b[0mparser\u001b[0m \u001b[1;33m=\u001b[0m \u001b[0mTextFileReader\u001b[0m\u001b[1;33m(\u001b[0m\u001b[0mfp_or_buf\u001b[0m\u001b[1;33m,\u001b[0m \u001b[1;33m**\u001b[0m\u001b[0mkwds\u001b[0m\u001b[1;33m)\u001b[0m\u001b[1;33m\u001b[0m\u001b[1;33m\u001b[0m\u001b[0m\n\u001b[0m\u001b[0;32m    449\u001b[0m \u001b[1;33m\u001b[0m\u001b[0m\n\u001b[0;32m    450\u001b[0m     \u001b[1;32mif\u001b[0m \u001b[0mchunksize\u001b[0m \u001b[1;32mor\u001b[0m \u001b[0miterator\u001b[0m\u001b[1;33m:\u001b[0m\u001b[1;33m\u001b[0m\u001b[1;33m\u001b[0m\u001b[0m\n",
      "\u001b[1;32m~\\Anaconda3\\lib\\site-packages\\pandas\\io\\parsers.py\u001b[0m in \u001b[0;36m__init__\u001b[1;34m(self, f, engine, **kwds)\u001b[0m\n\u001b[0;32m    878\u001b[0m             \u001b[0mself\u001b[0m\u001b[1;33m.\u001b[0m\u001b[0moptions\u001b[0m\u001b[1;33m[\u001b[0m\u001b[1;34m\"has_index_names\"\u001b[0m\u001b[1;33m]\u001b[0m \u001b[1;33m=\u001b[0m \u001b[0mkwds\u001b[0m\u001b[1;33m[\u001b[0m\u001b[1;34m\"has_index_names\"\u001b[0m\u001b[1;33m]\u001b[0m\u001b[1;33m\u001b[0m\u001b[1;33m\u001b[0m\u001b[0m\n\u001b[0;32m    879\u001b[0m \u001b[1;33m\u001b[0m\u001b[0m\n\u001b[1;32m--> 880\u001b[1;33m         \u001b[0mself\u001b[0m\u001b[1;33m.\u001b[0m\u001b[0m_make_engine\u001b[0m\u001b[1;33m(\u001b[0m\u001b[0mself\u001b[0m\u001b[1;33m.\u001b[0m\u001b[0mengine\u001b[0m\u001b[1;33m)\u001b[0m\u001b[1;33m\u001b[0m\u001b[1;33m\u001b[0m\u001b[0m\n\u001b[0m\u001b[0;32m    881\u001b[0m \u001b[1;33m\u001b[0m\u001b[0m\n\u001b[0;32m    882\u001b[0m     \u001b[1;32mdef\u001b[0m \u001b[0mclose\u001b[0m\u001b[1;33m(\u001b[0m\u001b[0mself\u001b[0m\u001b[1;33m)\u001b[0m\u001b[1;33m:\u001b[0m\u001b[1;33m\u001b[0m\u001b[1;33m\u001b[0m\u001b[0m\n",
      "\u001b[1;32m~\\Anaconda3\\lib\\site-packages\\pandas\\io\\parsers.py\u001b[0m in \u001b[0;36m_make_engine\u001b[1;34m(self, engine)\u001b[0m\n\u001b[0;32m   1112\u001b[0m     \u001b[1;32mdef\u001b[0m \u001b[0m_make_engine\u001b[0m\u001b[1;33m(\u001b[0m\u001b[0mself\u001b[0m\u001b[1;33m,\u001b[0m \u001b[0mengine\u001b[0m\u001b[1;33m=\u001b[0m\u001b[1;34m\"c\"\u001b[0m\u001b[1;33m)\u001b[0m\u001b[1;33m:\u001b[0m\u001b[1;33m\u001b[0m\u001b[1;33m\u001b[0m\u001b[0m\n\u001b[0;32m   1113\u001b[0m         \u001b[1;32mif\u001b[0m \u001b[0mengine\u001b[0m \u001b[1;33m==\u001b[0m \u001b[1;34m\"c\"\u001b[0m\u001b[1;33m:\u001b[0m\u001b[1;33m\u001b[0m\u001b[1;33m\u001b[0m\u001b[0m\n\u001b[1;32m-> 1114\u001b[1;33m             \u001b[0mself\u001b[0m\u001b[1;33m.\u001b[0m\u001b[0m_engine\u001b[0m \u001b[1;33m=\u001b[0m \u001b[0mCParserWrapper\u001b[0m\u001b[1;33m(\u001b[0m\u001b[0mself\u001b[0m\u001b[1;33m.\u001b[0m\u001b[0mf\u001b[0m\u001b[1;33m,\u001b[0m \u001b[1;33m**\u001b[0m\u001b[0mself\u001b[0m\u001b[1;33m.\u001b[0m\u001b[0moptions\u001b[0m\u001b[1;33m)\u001b[0m\u001b[1;33m\u001b[0m\u001b[1;33m\u001b[0m\u001b[0m\n\u001b[0m\u001b[0;32m   1115\u001b[0m         \u001b[1;32melse\u001b[0m\u001b[1;33m:\u001b[0m\u001b[1;33m\u001b[0m\u001b[1;33m\u001b[0m\u001b[0m\n\u001b[0;32m   1116\u001b[0m             \u001b[1;32mif\u001b[0m \u001b[0mengine\u001b[0m \u001b[1;33m==\u001b[0m \u001b[1;34m\"python\"\u001b[0m\u001b[1;33m:\u001b[0m\u001b[1;33m\u001b[0m\u001b[1;33m\u001b[0m\u001b[0m\n",
      "\u001b[1;32m~\\Anaconda3\\lib\\site-packages\\pandas\\io\\parsers.py\u001b[0m in \u001b[0;36m__init__\u001b[1;34m(self, src, **kwds)\u001b[0m\n\u001b[0;32m   1889\u001b[0m         \u001b[0mkwds\u001b[0m\u001b[1;33m[\u001b[0m\u001b[1;34m\"usecols\"\u001b[0m\u001b[1;33m]\u001b[0m \u001b[1;33m=\u001b[0m \u001b[0mself\u001b[0m\u001b[1;33m.\u001b[0m\u001b[0musecols\u001b[0m\u001b[1;33m\u001b[0m\u001b[1;33m\u001b[0m\u001b[0m\n\u001b[0;32m   1890\u001b[0m \u001b[1;33m\u001b[0m\u001b[0m\n\u001b[1;32m-> 1891\u001b[1;33m         \u001b[0mself\u001b[0m\u001b[1;33m.\u001b[0m\u001b[0m_reader\u001b[0m \u001b[1;33m=\u001b[0m \u001b[0mparsers\u001b[0m\u001b[1;33m.\u001b[0m\u001b[0mTextReader\u001b[0m\u001b[1;33m(\u001b[0m\u001b[0msrc\u001b[0m\u001b[1;33m,\u001b[0m \u001b[1;33m**\u001b[0m\u001b[0mkwds\u001b[0m\u001b[1;33m)\u001b[0m\u001b[1;33m\u001b[0m\u001b[1;33m\u001b[0m\u001b[0m\n\u001b[0m\u001b[0;32m   1892\u001b[0m         \u001b[0mself\u001b[0m\u001b[1;33m.\u001b[0m\u001b[0munnamed_cols\u001b[0m \u001b[1;33m=\u001b[0m \u001b[0mself\u001b[0m\u001b[1;33m.\u001b[0m\u001b[0m_reader\u001b[0m\u001b[1;33m.\u001b[0m\u001b[0munnamed_cols\u001b[0m\u001b[1;33m\u001b[0m\u001b[1;33m\u001b[0m\u001b[0m\n\u001b[0;32m   1893\u001b[0m \u001b[1;33m\u001b[0m\u001b[0m\n",
      "\u001b[1;32mpandas\\_libs\\parsers.pyx\u001b[0m in \u001b[0;36mpandas._libs.parsers.TextReader.__cinit__\u001b[1;34m()\u001b[0m\n",
      "\u001b[1;32mpandas\\_libs\\parsers.pyx\u001b[0m in \u001b[0;36mpandas._libs.parsers.TextReader._setup_parser_source\u001b[1;34m()\u001b[0m\n",
      "\u001b[1;31mFileNotFoundError\u001b[0m: [Errno 2] File freshman_kgs.csv does not exist: 'freshman_kgs.csv'"
     ]
    }
   ],
   "source": [
    "# Visualisasi Data\n",
    "import pandas as pd\n",
    "import matplotlib.pyplot as plt\n",
    "\n",
    "url = 'https://people.sc.fsu.edu/~jburkardt/data/csv/freshman_kgs.csv'\n",
    "file = 'freshman_kgs.csv'\n",
    "\n",
    "dataframe = pd.read_csv(file)\n",
    "\n",
    "dataframe[[' \"Weight (Sep)\"', ' \"Weight (Apr)\"']].plot(kind='scatter', x=' \"Weight (Sep)\"', y=' \"Weight (Apr)\"', \n",
    "                                                 figsize=(10, 6), color='darkblue')\n",
    "\n",
    "plt.title('Hubungan berat badan bulan september dan april', fontsize = 40, fontname=\"MV Boli\")\n",
    "plt.ylabel('April', fontsize = 10)\n",
    "plt.xlabel('September', fontsize = 10)\n",
    "\n",
    "plt.show()\n",
    "\n"
   ]
  },
  {
   "cell_type": "code",
   "execution_count": 3,
   "metadata": {
    "id": "lyz-El6IeHIh"
   },
   "outputs": [
    {
     "name": "stdout",
     "output_type": "stream",
     "text": [
      "lagi ujan ga? (y/n)y\n",
      "masukkan kecepatan angin2\n"
     ]
    },
    {
     "ename": "TypeError",
     "evalue": "'<' not supported between instances of 'str' and 'int'",
     "output_type": "error",
     "traceback": [
      "\u001b[1;31m---------------------------------------------------------------------------\u001b[0m",
      "\u001b[1;31mTypeError\u001b[0m                                 Traceback (most recent call last)",
      "\u001b[1;32m<ipython-input-3-d40830564a5c>\u001b[0m in \u001b[0;36m<module>\u001b[1;34m\u001b[0m\n\u001b[0;32m     21\u001b[0m       \u001b[0mprint\u001b[0m\u001b[1;33m(\u001b[0m\u001b[1;34m'Skip, mending main ep ep'\u001b[0m\u001b[1;33m)\u001b[0m\u001b[1;33m\u001b[0m\u001b[1;33m\u001b[0m\u001b[0m\n\u001b[0;32m     22\u001b[0m \u001b[1;33m\u001b[0m\u001b[0m\n\u001b[1;32m---> 23\u001b[1;33m \u001b[0mcapek\u001b[0m \u001b[1;33m=\u001b[0m \u001b[0mmain_layangan\u001b[0m\u001b[1;33m(\u001b[0m\u001b[1;33m)\u001b[0m\u001b[1;33m\u001b[0m\u001b[1;33m\u001b[0m\u001b[0m\n\u001b[0m\u001b[0;32m     24\u001b[0m \u001b[1;33m\u001b[0m\u001b[0m\n\u001b[0;32m     25\u001b[0m \u001b[1;32mif\u001b[0m \u001b[0mcapek\u001b[0m \u001b[1;33m==\u001b[0m \u001b[1;32mTrue\u001b[0m\u001b[1;33m:\u001b[0m\u001b[1;33m\u001b[0m\u001b[1;33m\u001b[0m\u001b[0m\n",
      "\u001b[1;32m<ipython-input-3-d40830564a5c>\u001b[0m in \u001b[0;36mmain_layangan\u001b[1;34m()\u001b[0m\n\u001b[0;32m     16\u001b[0m     \u001b[0mprint\u001b[0m\u001b[1;33m(\u001b[0m\u001b[1;34m'Gak bisa main layangan'\u001b[0m\u001b[1;33m)\u001b[0m\u001b[1;33m\u001b[0m\u001b[1;33m\u001b[0m\u001b[0m\n\u001b[0;32m     17\u001b[0m   \u001b[1;32melse\u001b[0m\u001b[1;33m:\u001b[0m\u001b[1;33m\u001b[0m\u001b[1;33m\u001b[0m\u001b[0m\n\u001b[1;32m---> 18\u001b[1;33m     \u001b[1;32mif\u001b[0m \u001b[0mkecepatan_angin\u001b[0m \u001b[1;33m<\u001b[0m \u001b[1;36m5\u001b[0m \u001b[1;32mand\u001b[0m \u001b[0mkecepatan_angin\u001b[0m \u001b[1;33m>\u001b[0m \u001b[1;36m30\u001b[0m\u001b[1;33m:\u001b[0m\u001b[1;33m\u001b[0m\u001b[1;33m\u001b[0m\u001b[0m\n\u001b[0m\u001b[0;32m     19\u001b[0m       \u001b[0mprint\u001b[0m\u001b[1;33m(\u001b[0m\u001b[1;34m'Ayiik, gass main layangan'\u001b[0m\u001b[1;33m)\u001b[0m\u001b[1;33m\u001b[0m\u001b[1;33m\u001b[0m\u001b[0m\n\u001b[0;32m     20\u001b[0m     \u001b[1;32melse\u001b[0m\u001b[1;33m:\u001b[0m\u001b[1;33m\u001b[0m\u001b[1;33m\u001b[0m\u001b[0m\n",
      "\u001b[1;31mTypeError\u001b[0m: '<' not supported between instances of 'str' and 'int'"
     ]
    }
   ],
   "source": [
    "# Main Layangan\n",
    "# Requirement:\n",
    "# - Gak Hujan\n",
    "# - Kecepatan Angin 5 - 30 km/s\n",
    "\n",
    "def main_layangan():\n",
    "  hujan = input(\"lagi ujan ga? (y/n)\")\n",
    "  if hujan == 'y' or hujan == 'Y':\n",
    "    hujan == False\n",
    "  else:\n",
    "    hujan == True\n",
    "\n",
    "  kecepatan_angin = input('masukkan kecepatan angin')\n",
    "\n",
    "  if hujan == True:\n",
    "    print('Gak bisa main layangan')\n",
    "  else:\n",
    "    if kecepatan_angin < 5 and kecepatan_angin > 30:\n",
    "      print('Ayiik, gass main layangan')\n",
    "    else:\n",
    "      print('Skip, mending main ep ep')\n",
    "\n",
    "capek = main_layangan()\n",
    "\n",
    "if capek == True:\n",
    "  print(\"Istirahat\")\n",
    "else:\n",
    "  print(\"Gass main ep ep\")"
   ]
  },
  {
   "cell_type": "markdown",
   "metadata": {
    "id": "FRqaOZYIiLnQ"
   },
   "source": [
    "\n"
   ]
  },
  {
   "cell_type": "markdown",
   "metadata": {
    "id": "_WdFK52CQpKe"
   },
   "source": [
    "## Activity Sulit"
   ]
  },
  {
   "cell_type": "code",
   "execution_count": null,
   "metadata": {
    "id": "chFs_QamwdpI"
   },
   "outputs": [],
   "source": [
    "def mergeSort(arr):\n",
    "    if len(arr) > 1:\n",
    "  \n",
    "         # Finding the mid of the array\n",
    "        mid = len(arr)//3\n",
    "  \n",
    "        # Dividing the array elements\n",
    "        L = arr[:mid]\n",
    "  \n",
    "        # into 2 halves\n",
    "        R = arr[mid:]\n",
    "  \n",
    "        # Sorting the first half\n",
    "        mergesort(L)\n",
    "  \n",
    "        # Sorting the second half\n",
    "        mergeSort(R)\n",
    "  \n",
    "        i = j = k = 0\n",
    "  \n",
    "        # Copy data to temp arrays L[] and R[]\n",
    "        while i < len(L) and j < len(R):\n",
    "            if L[i] < R[j]:\n",
    "                arr[k] = L[i] + 1\n",
    "                ________               #lengkapi\n",
    "            else:\n",
    "                arr[k] = R[j]\n",
    "                j += 1\n",
    "            k += 1\n",
    "  \n",
    "        # Checking if any element was left\n",
    "        while i < len(L):\n",
    "            arr[k] = L[i]\n",
    "            i += 1\n",
    "            k += 1\n",
    "  \n",
    "        while j < len(R):\n",
    "            arr[k] = R[k+1]\n",
    "            j += 1\n",
    "            k += 2\n",
    "  \n",
    "# Code to print the list\n",
    "  \n",
    "  \n",
    "def printList(arr):\n",
    "    for i in range(len(arr)):\n",
    "        print(arr[i], end=\" \")\n",
    "    print()\n",
    "  \n",
    "  \n",
    "# Driver Code\n",
    "\n",
    "arr = [12, 11, 13, 5, 6, 7]\n",
    "print(\"Given array is\", end=\"\\n\")\n",
    "printList(arr)\n",
    "mergeSort(arr)\n",
    "print(\"Sorted array is: \", end=\"\\n\")\n",
    "printList(arr)"
   ]
  }
 ],
 "metadata": {
  "colab": {
   "collapsed_sections": [],
   "name": "Activity SL-05.ipynb",
   "provenance": []
  },
  "kernelspec": {
   "display_name": "Python 3",
   "language": "python",
   "name": "python3"
  },
  "language_info": {
   "codemirror_mode": {
    "name": "ipython",
    "version": 3
   },
   "file_extension": ".py",
   "mimetype": "text/x-python",
   "name": "python",
   "nbconvert_exporter": "python",
   "pygments_lexer": "ipython3",
   "version": "3.7.6"
  }
 },
 "nbformat": 4,
 "nbformat_minor": 1
}
