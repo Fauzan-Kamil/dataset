{
 "cells": [
  {
   "cell_type": "markdown",
   "metadata": {},
   "source": [
    "# 1. Refactoring Code\n",
    "## 1.1 \n",
    "\n",
    "```\n",
    "#program untuk menghitung luas dan keliling lingkaran\n",
    "Pi = 3.14\n",
    "\n",
    "def HitungLuasLingkaran(jari_jari):\n",
    "    l = Pi * jari_jari**2\n",
    "    return l\n",
    "\n",
    "def HitungKelilingLingkaran(jari_jari):\n",
    "    kllng = 2 * Pi * jari_jari\n",
    "    return kllng\n",
    "\n",
    "def tampilkan_menu():\n",
    "    print('')\n",
    "    print(\"----------------------------------------------------\")\n",
    "    print( 'Program untuk menghitung luas dan keliling lingkaran')\n",
    "    print( 'Mau ngitung apa nih bre?')\n",
    "    print( '1. Luas Lingkaran')\n",
    "    print( '2. Keliling Lingkaran')\n",
    "    print( '3. Stop Program')\n",
    "    print('')\n",
    "\n",
    "\n",
    "pilihan = 'bukan 3'\n",
    "while pilihan != 3:\n",
    "    tampilkan_menu()\n",
    "    pil = input ('Pilihan:')\n",
    "\n",
    "    if pil=='1':\n",
    "        jari_jari = input('Jari Jari:')\n",
    "        jari_jari = float(jari_jari)\n",
    "        hasil = HitungLuasLingkaran(jari_jari)\n",
    "        print(\"Luas Lingkaran:\", hasil )\n",
    "\n",
    "    elif pil== '2':\n",
    "        jari_jari=input ('Jari Jari:')\n",
    "        jari_jari=float (jari_jari)\n",
    "        hsl=HitungKelilingLingkaran(jari_jari)\n",
    "        print(\"Keliling Lingkaran:\", hsl )\n",
    "\n",
    "    elif pil=='3':\n",
    "        print( \"TERIMA KASIH SUDAH MENGGUNAKAN PROGRAM KAMI\")\n",
    "        break\n",
    "\n",
    "    else:\n",
    "        print('Pilihan tidak tersedia')\n",
    "        tampilkan_menu ()\n",
    "```"
   ]
  },
  {
   "cell_type": "code",
   "execution_count": 3,
   "metadata": {},
   "outputs": [
    {
     "name": "stdout",
     "output_type": "stream",
     "text": [
      "\n",
      "----------------------------------------------------\n",
      "Program untuk menghitung luas dan keliling lingkaran\n",
      "Mau ngitung apa nih bre?\n",
      "1. Luas Lingkaran\n",
      "2. Keliling Lingkaran\n",
      "3. Stop Program\n",
      "\n",
      "Pilihan:1\n",
      "Jari Jari:13\n",
      "Luas Lingkaran: 530.66\n",
      "\n",
      "----------------------------------------------------\n",
      "Program untuk menghitung luas dan keliling lingkaran\n",
      "Mau ngitung apa nih bre?\n",
      "1. Luas Lingkaran\n",
      "2. Keliling Lingkaran\n",
      "3. Stop Program\n",
      "\n",
      "Pilihan:2\n",
      "Jari Jari:4324\n",
      "Keliling Lingkaran: 27154.72\n",
      "\n",
      "----------------------------------------------------\n",
      "Program untuk menghitung luas dan keliling lingkaran\n",
      "Mau ngitung apa nih bre?\n",
      "1. Luas Lingkaran\n",
      "2. Keliling Lingkaran\n",
      "3. Stop Program\n",
      "\n",
      "Pilihan:4\n",
      "Pilihan tidak tersedia\n",
      "\n",
      "----------------------------------------------------\n",
      "Program untuk menghitung luas dan keliling lingkaran\n",
      "Mau ngitung apa nih bre?\n",
      "1. Luas Lingkaran\n",
      "2. Keliling Lingkaran\n",
      "3. Stop Program\n",
      "\n",
      "\n",
      "----------------------------------------------------\n",
      "Program untuk menghitung luas dan keliling lingkaran\n",
      "Mau ngitung apa nih bre?\n",
      "1. Luas Lingkaran\n",
      "2. Keliling Lingkaran\n",
      "3. Stop Program\n",
      "\n",
      "Pilihan:3\n",
      "TERIMA KASIH SUDAH MENGGUNAKAN PROGRAM KAMI\n"
     ]
    }
   ],
   "source": [
    "# Antara tanda hashtag(#) dan kalimat dipisah satu spasi dan menggunakan huruf kapital di awal kalimat\n",
    "# Program untuk menghitung luas dan keliling lingkaran\n",
    "PI = 3.14 # UPPERCASE\n",
    "\n",
    "def hitung_luas_lingkaran(jari_jari): # Pakai snake_case\n",
    "    luas = PI * jari_jari**2 # Variabel harus dapat dibaca\n",
    "    return luas\n",
    "\n",
    "def hitung_keliling_lingkaran(jari_jari): # Pakai snake_case\n",
    "    keliling = 2 * PI * jari_jari # Variabel harus dapat dibaca\n",
    "    return keliling\n",
    "\n",
    "def tampilkan_menu():\n",
    "    print('')\n",
    "    print(\"----------------------------------------------------\")\n",
    "    print('Program untuk menghitung luas dan keliling lingkaran') # Tidak ada spasi setelah tanda kurung\n",
    "    print('Mau ngitung apa nih bre?') # Tidak ada spasi setelah tanda kurung\n",
    "    print('1. Luas Lingkaran') # Tidak ada spasi setelah tanda kurung\n",
    "    print('2. Keliling Lingkaran') # Tidak ada spasi setelah tanda kurung\n",
    "    print('3. Stop Program') # Tidak ada spasi setelah tanda kurung\n",
    "    print('') # Tidak ada spasi setelah tanda kurung\n",
    "\n",
    "\n",
    "pilihan = 'bukan 3' # Variabel harus jelas dan merepresentasikan isi (value)\n",
    "while pilihan != 3:\n",
    "    tampilkan_menu()\n",
    "    pilihan = input('Pilihan:') # Setelah nama fungsi tidak boleh ada spasi\n",
    "\n",
    "    if pilihan == '1': # Sebelum dan sesudah operator logika masing - masing diberi satu spasi\n",
    "        jari_jari = input('Jari Jari:')\n",
    "        jari_jari = float(jari_jari)\n",
    "        luas_lingkaran = hitung_luas_lingkaran(jari_jari) # Variabel harus jelas dan merepresentasikan isinya\n",
    "        print(\"Luas Lingkaran:\", luas_lingkaran )\n",
    "\n",
    "    elif pilihan == '2': # Sebelum dan sesudah operator logika masing - masing diberi satu spasi\n",
    "        jari_jari = input('Jari Jari:') # Sebelum dan sesudah operator logika masing - masing diberi satu spasi. Setelah nama fungsi tidak boleh ada spasi\n",
    "        jari_jari = float(jari_jari) # Sebelum dan sesudah operator logika masing - masing diberi satu spasi. Setelah nama fungsi tidak boleh ada spasi\n",
    "        keliling_lingkaran = hitung_keliling_lingkaran(jari_jari)\n",
    "        print(\"Keliling Lingkaran:\", keliling_lingkaran) # Antara tanda kurung tidak boleh ada spasi\n",
    "\n",
    "    elif pilihan == '3': # Sebelum dan sesudah operator logika masing - masing diberi satu spasi.\n",
    "        print(\"TERIMA KASIH SUDAH MENGGUNAKAN PROGRAM KAMI\") # Antara tanda kurung tidak boleh ada spasi\n",
    "        break\n",
    "\n",
    "    else:\n",
    "        print('Pilihan tidak tersedia')\n",
    "        tampilkan_menu() # Setelah nama fungsi tidak boleh ada spasi"
   ]
  },
  {
   "cell_type": "markdown",
   "metadata": {},
   "source": [
    "## 1.2\n",
    "\n",
    "```\n",
    "# Main Layangan\n",
    "# Requirement:\n",
    "# - Gak Hujan\n",
    "# - Kecepatan Angin 5 - 30 km/s\n",
    "\n",
    "#Clues:\n",
    "# - Naming variable dan function, whitespace, komentar\n",
    "# - Terdapat kode duplikat, coba perbaiki\n",
    "\n",
    "def main_layangan():\n",
    "  hujan = input (\"lagi ujan ga? (y/n)\")\n",
    "  if hujan =='y' or hujan== 'Y':\n",
    "    hujan = True\n",
    "  else:\n",
    "    hujan =False\n",
    "\n",
    "  kecepatan__angin = int( input ('masukkan kecepatan angin'))\n",
    "\n",
    "  if hujan == True:\n",
    "    print('Gak bisa main layangan')\n",
    "    return False\n",
    "  else:\n",
    "    if kecepatan__angin >=5 and kecepatan__angin<= 30:\n",
    "      print( 'Asiik, gass main layangan')\n",
    "      return True\n",
    "    else:\n",
    "      print('Skip, mending main ep ep' )\n",
    "      return False\n",
    "\n",
    "capek = main_layangan()\n",
    "\n",
    "if capek ==True:\n",
    "  print(\"Istirahat\" )\n",
    "else:\n",
    "  print (\"Gass main ep ep\")\n",
    "```"
   ]
  },
  {
   "cell_type": "code",
   "execution_count": 5,
   "metadata": {},
   "outputs": [
    {
     "name": "stdout",
     "output_type": "stream",
     "text": [
      "lagi ujan ga? (y/n)n\n",
      "masukkan kecepatan angin33\n",
      "Skip, mending main ep ep\n",
      "Gass main ep ep\n"
     ]
    }
   ],
   "source": [
    "# Main Layangan\n",
    "# Requirement:\n",
    "# - Gak Hujan\n",
    "# - Kecepatan Angin 5 - 30 km/s\n",
    "\n",
    "# Antara tanda hashtag(#) dan kalimat dipisah dengan satu spasi\n",
    "# Clues:\n",
    "# - Naming variable dan function, whitespace, komentar\n",
    "# - Terdapat kode duplikat, coba perbaiki\n",
    "\n",
    "def main_layangan():\n",
    "    hujan = input (\"lagi ujan ga? (y/n)\")\n",
    "    if hujan=='y' or hujan=='Y': # Jika ada dua statement, beri spasi sebelum dan sesudah pada operator yang memiliki prioritas terkecil. Selain itu tidak perlu spasi\n",
    "        hujan = True\n",
    "    else:\n",
    "        hujan = False # Sebelum dan sesudah operator logika masing - masing diberi satu spasi\n",
    "\n",
    "    kecepatan_angin = int(input('masukkan kecepatan angin')) # Pakai snake_case (hanya satu underscore), tidak ada spasi antar tanda kurung\n",
    "\n",
    "    if hujan == True:\n",
    "        print('Gak bisa main layangan')\n",
    "        return False\n",
    "    else:\n",
    "        if kecepatan_angin>=5 and kecepatan_angin<=30: # Jika ada dua statement, beri spasi sebelum dan sesudah pada operator yang memiliki prioritas terkecil. Selain itu tidak perlu spasi\n",
    "            print('Asiik, gass main layangan') # Tidak ada spasi antar tanda kurung\n",
    "            return True\n",
    "        else:\n",
    "            print('Skip, mending main ep ep')\n",
    "            return False\n",
    "\n",
    "capek = main_layangan()\n",
    "\n",
    "if capek == True: # Sebelum dan sesudah operator logika masing - masing diberi satu spasi\n",
    "    print(\"Istirahat\") # Tidak ada spasi antar tanda kurung\n",
    "else:\n",
    "    print(\"Gass main ep ep\") # Setelah nama fungsi tidak boleh ada spasi"
   ]
  },
  {
   "cell_type": "markdown",
   "metadata": {},
   "source": [
    "# 2. Memilih Delegasi Tim Sudirman Cup dari Indonesia"
   ]
  },
  {
   "cell_type": "code",
   "execution_count": 12,
   "metadata": {},
   "outputs": [],
   "source": [
    "pemain_dan_medali = [\n",
    "    [7, \"Ginting\"], [5, \"Jonathan C.\"], [9, \"Hendra\"], \n",
    "    [9, \"Ahsan\"], [8, \"Markus\"], [8, \"Kevin\"], [4, \"Gregoria\"],\n",
    "    [6, \"Praven\"], [6, \"Melati\"], [7, \"Greysia\"], [7, \"Apriani\"], \n",
    "    [5, \"Putri\"], [5, \"Rian\"], [5, \"Fajar\"]\n",
    "]"
   ]
  },
  {
   "cell_type": "code",
   "execution_count": 13,
   "metadata": {},
   "outputs": [],
   "source": [
    "# Buat list baru dengan mengurutkan list diatas berdasarkan medali yang diraih dari yang paling banyak\n",
    "pemain_dan_medali_sorted = pemain_dan_medali.copy()"
   ]
  },
  {
   "cell_type": "code",
   "execution_count": 14,
   "metadata": {},
   "outputs": [
    {
     "name": "stdout",
     "output_type": "stream",
     "text": [
      "[4, 5, 5, 5, 5, 6, 6, 7, 7, 7, 8, 8, 9, 9]\n",
      "['Gregoria', 'Fajar', 'Jonathan C.', 'Putri', 'Rian', 'Melati', 'Praven', 'Apriani', 'Ginting', 'Greysia', 'Kevin', 'Markus', 'Ahsan', 'Hendra']\n"
     ]
    }
   ],
   "source": [
    "# Dengan looping, buatlah 2 list terpisah dari pemain dan juga medalinya, namun urutannya harus tetap sama dengan yang diatas\n",
    "pemain_dan_medali_sorted.sort()\n",
    "pemain = []\n",
    "medali = []\n",
    "\n",
    "for x in pemain_dan_medali_sorted:\n",
    "    pemain.append(x[0])\n",
    "    medali.append(x[1])\n",
    "\n",
    "print(pemain)\n",
    "print(medali)"
   ]
  },
  {
   "cell_type": "code",
   "execution_count": 15,
   "metadata": {},
   "outputs": [],
   "source": [
    "pemain_dan_medali_sorted.extend([[2,\"Rio\"], [5, \"Dewi\"]])\n",
    "pemain_dan_medali_sorted.sort()\n",
    "pemain_dan_medali_sorted.reverse()"
   ]
  },
  {
   "cell_type": "code",
   "execution_count": 17,
   "metadata": {},
   "outputs": [
    {
     "name": "stdout",
     "output_type": "stream",
     "text": [
      "Hendra layak bergabung di Tim Sudirman\n",
      "Ahsan layak bergabung di Tim Sudirman\n",
      "Markus layak bergabung di Tim Sudirman\n",
      "Kevin layak bergabung di Tim Sudirman\n",
      "Greysia layak bergabung di Tim Sudirman\n",
      "Ginting layak bergabung di Tim Sudirman\n",
      "Apriani layak bergabung di Tim Sudirman\n",
      "Praven layak bergabung di Tim Sudirman\n",
      "Melati layak bergabung di Tim Sudirman\n",
      "Rian layak bergabung di Tim Sudirman\n",
      "Putri layak bergabung di Tim Sudirman\n",
      "Jonathan C. layak bergabung di Tim Sudirman\n",
      "Fajar layak bergabung di Tim Sudirman\n",
      "Dewi layak bergabung di Tim Sudirman\n",
      "Gregoria belum layak bergabung di Tim Sudirman\n",
      "Rio belum layak bergabung di Tim Sudirman\n"
     ]
    }
   ],
   "source": [
    "def seleksi_tim_sudirman(list_pemain_dan_medali):\n",
    "    for index, (medali, pemain) in enumerate(list_pemain_dan_medali):\n",
    "        if index <= 13:\n",
    "            print(f'{pemain} layak bergabung di Tim Sudirman')\n",
    "        else:\n",
    "            print(f'{pemain} belum layak bergabung di Tim Sudirman')\n",
    "\n",
    "seleksi_tim_sudirman(pemain_dan_medali_sorted)"
   ]
  },
  {
   "cell_type": "code",
   "execution_count": 18,
   "metadata": {},
   "outputs": [
    {
     "name": "stdout",
     "output_type": "stream",
     "text": [
      "23\n",
      "Ginting\n"
     ]
    }
   ],
   "source": [
    "# Destructuring List di Python\n",
    "medal, athlete = [23, \"Ginting\"]\n",
    "print(medal)\n",
    "print(athlete)"
   ]
  },
  {
   "cell_type": "code",
   "execution_count": null,
   "metadata": {},
   "outputs": [],
   "source": []
  }
 ],
 "metadata": {
  "kernelspec": {
   "display_name": "Python 3",
   "language": "python",
   "name": "python3"
  },
  "language_info": {
   "codemirror_mode": {
    "name": "ipython",
    "version": 3
   },
   "file_extension": ".py",
   "mimetype": "text/x-python",
   "name": "python",
   "nbconvert_exporter": "python",
   "pygments_lexer": "ipython3",
   "version": "3.8.3"
  }
 },
 "nbformat": 4,
 "nbformat_minor": 4
}
